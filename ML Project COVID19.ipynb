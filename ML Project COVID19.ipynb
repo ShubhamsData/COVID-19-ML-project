{
 "cells": [
  {
   "cell_type": "markdown",
   "id": "c1872b3e",
   "metadata": {},
   "source": [
    "## Machine learning-based prediction of COVID-19 diagnosis based on symptoms"
   ]
  },
  {
   "cell_type": "markdown",
   "id": "8623dfeb",
   "metadata": {},
   "source": [
    "- The COVID-19 pandemic caused by the SARS-CoV-2 virus continues to pose a significant threat to global health, with more than 39.5 million confirmed cases and 1.1 million deaths reported worldwide as of October 2020. The outbreak, which began in December 2019 in China, has overwhelmed healthcare systems worldwide, resulting in shortages of medical equipment and personnel. The shortage of the most validated diagnosis test, reverse transcriptase polymerase chain reaction (RT-PCR), has contributed to increased infection rates and delayed preventive measures. To address this issue, prediction models have been developed to assist medical staff in triaging patients for COVID-19. However, most of these models are based on data from hospitalized patients and are not effective in screening the general population. In this context, we propose a machine-learning model that predicts a positive SARS-CoV-2 infection in an RT-PCR test by asking eight basic questions. The model was trained on data from individuals in ABC place who were tested for SARS-CoV-2 during the first months of the pandemic."
   ]
  },
  {
   "cell_type": "markdown",
   "id": "d8792e5b",
   "metadata": {},
   "source": [
    "### Overview"
   ]
  },
  {
   "cell_type": "markdown",
   "id": "d7fd69de",
   "metadata": {},
   "source": [
    "- The effective screening of SARS-CoV-2 plays a vital role in the quick and efficient diagnosis of COVID-19, and it can significantly reduce the burden on healthcare systems. To assist medical staff in triaging patients, especially in the context of limited healthcare resources, prediction models have been developed that combine several features to estimate the risk of infection. In this regard, a machine-learning approach was established that trained on records from 67,584 tested individuals, of whom 4,747 were confirmed to have COVID-19. The test set contained data from the subsequent week, where 51,810 tested individuals were reported, of whom 4,760 were confirmed to have COVID-19. Using only eight binary features, such as sex, age ≥60 years, known contact with an infected individual, and the appearance of five initial clinical symptoms, The model was developed based on the data reported by the 'ABC' government, making it a practical tool to detect COVID-19 cases through simple features accessed by asking basic questions."
   ]
  },
  {
   "cell_type": "markdown",
   "id": "cfc7d81d",
   "metadata": {},
   "source": [
    "### Data Preprocessing"
   ]
  },
  {
   "cell_type": "code",
   "execution_count": 329,
   "id": "e2cab033",
   "metadata": {},
   "outputs": [],
   "source": [
    "# importing necessasry liabraries\n",
    "import numpy as np\n",
    "import pandas as pd\n",
    "import seaborn as sns\n",
    "import matplotlib.pyplot as plt\n",
    "%matplotlib inline\n",
    "import warnings\n",
    "warnings.filterwarnings('ignore')"
   ]
  },
  {
   "cell_type": "code",
   "execution_count": 330,
   "id": "b9a011b1",
   "metadata": {},
   "outputs": [],
   "source": [
    "#reading the dataset\n",
    "df = pd.read_csv(\"corona_tested_006 (1).csv\")"
   ]
  },
  {
   "cell_type": "code",
   "execution_count": 331,
   "id": "aef8b38d",
   "metadata": {},
   "outputs": [
    {
     "data": {
      "text/html": [
       "<div>\n",
       "<style scoped>\n",
       "    .dataframe tbody tr th:only-of-type {\n",
       "        vertical-align: middle;\n",
       "    }\n",
       "\n",
       "    .dataframe tbody tr th {\n",
       "        vertical-align: top;\n",
       "    }\n",
       "\n",
       "    .dataframe thead th {\n",
       "        text-align: right;\n",
       "    }\n",
       "</style>\n",
       "<table border=\"1\" class=\"dataframe\">\n",
       "  <thead>\n",
       "    <tr style=\"text-align: right;\">\n",
       "      <th></th>\n",
       "      <th>Ind_ID</th>\n",
       "      <th>Test_date</th>\n",
       "      <th>Cough_symptoms</th>\n",
       "      <th>Fever</th>\n",
       "      <th>Sore_throat</th>\n",
       "      <th>Shortness_of_breath</th>\n",
       "      <th>Headache</th>\n",
       "      <th>Corona</th>\n",
       "      <th>Age_60_above</th>\n",
       "      <th>Sex</th>\n",
       "      <th>Known_contact</th>\n",
       "    </tr>\n",
       "  </thead>\n",
       "  <tbody>\n",
       "    <tr>\n",
       "      <th>0</th>\n",
       "      <td>1</td>\n",
       "      <td>11-03-2020</td>\n",
       "      <td>TRUE</td>\n",
       "      <td>FALSE</td>\n",
       "      <td>TRUE</td>\n",
       "      <td>FALSE</td>\n",
       "      <td>FALSE</td>\n",
       "      <td>negative</td>\n",
       "      <td>None</td>\n",
       "      <td>None</td>\n",
       "      <td>Abroad</td>\n",
       "    </tr>\n",
       "    <tr>\n",
       "      <th>1</th>\n",
       "      <td>2</td>\n",
       "      <td>11-03-2020</td>\n",
       "      <td>FALSE</td>\n",
       "      <td>TRUE</td>\n",
       "      <td>FALSE</td>\n",
       "      <td>FALSE</td>\n",
       "      <td>FALSE</td>\n",
       "      <td>positive</td>\n",
       "      <td>None</td>\n",
       "      <td>None</td>\n",
       "      <td>Abroad</td>\n",
       "    </tr>\n",
       "    <tr>\n",
       "      <th>2</th>\n",
       "      <td>3</td>\n",
       "      <td>11-03-2020</td>\n",
       "      <td>FALSE</td>\n",
       "      <td>TRUE</td>\n",
       "      <td>FALSE</td>\n",
       "      <td>FALSE</td>\n",
       "      <td>FALSE</td>\n",
       "      <td>positive</td>\n",
       "      <td>None</td>\n",
       "      <td>None</td>\n",
       "      <td>Abroad</td>\n",
       "    </tr>\n",
       "    <tr>\n",
       "      <th>3</th>\n",
       "      <td>4</td>\n",
       "      <td>11-03-2020</td>\n",
       "      <td>TRUE</td>\n",
       "      <td>FALSE</td>\n",
       "      <td>FALSE</td>\n",
       "      <td>FALSE</td>\n",
       "      <td>FALSE</td>\n",
       "      <td>negative</td>\n",
       "      <td>None</td>\n",
       "      <td>None</td>\n",
       "      <td>Abroad</td>\n",
       "    </tr>\n",
       "    <tr>\n",
       "      <th>4</th>\n",
       "      <td>5</td>\n",
       "      <td>11-03-2020</td>\n",
       "      <td>TRUE</td>\n",
       "      <td>FALSE</td>\n",
       "      <td>FALSE</td>\n",
       "      <td>FALSE</td>\n",
       "      <td>FALSE</td>\n",
       "      <td>negative</td>\n",
       "      <td>None</td>\n",
       "      <td>None</td>\n",
       "      <td>Contact with confirmed</td>\n",
       "    </tr>\n",
       "  </tbody>\n",
       "</table>\n",
       "</div>"
      ],
      "text/plain": [
       "   Ind_ID   Test_date Cough_symptoms  Fever Sore_throat Shortness_of_breath  \\\n",
       "0       1  11-03-2020           TRUE  FALSE        TRUE               FALSE   \n",
       "1       2  11-03-2020          FALSE   TRUE       FALSE               FALSE   \n",
       "2       3  11-03-2020          FALSE   TRUE       FALSE               FALSE   \n",
       "3       4  11-03-2020           TRUE  FALSE       FALSE               FALSE   \n",
       "4       5  11-03-2020           TRUE  FALSE       FALSE               FALSE   \n",
       "\n",
       "  Headache    Corona Age_60_above   Sex           Known_contact  \n",
       "0    FALSE  negative         None  None                  Abroad  \n",
       "1    FALSE  positive         None  None                  Abroad  \n",
       "2    FALSE  positive         None  None                  Abroad  \n",
       "3    FALSE  negative         None  None                  Abroad  \n",
       "4    FALSE  negative         None  None  Contact with confirmed  "
      ]
     },
     "execution_count": 331,
     "metadata": {},
     "output_type": "execute_result"
    }
   ],
   "source": [
    "# checking the first few rows\n",
    "df.head()"
   ]
  },
  {
   "cell_type": "code",
   "execution_count": 332,
   "id": "9ac9f007",
   "metadata": {},
   "outputs": [
    {
     "data": {
      "text/plain": [
       "(278848, 11)"
      ]
     },
     "execution_count": 332,
     "metadata": {},
     "output_type": "execute_result"
    }
   ],
   "source": [
    "# checking the dimensions of the data\n",
    "df.shape"
   ]
  },
  {
   "cell_type": "code",
   "execution_count": 333,
   "id": "03ce00b7",
   "metadata": {},
   "outputs": [
    {
     "name": "stdout",
     "output_type": "stream",
     "text": [
      "<class 'pandas.core.frame.DataFrame'>\n",
      "RangeIndex: 278848 entries, 0 to 278847\n",
      "Data columns (total 11 columns):\n",
      " #   Column               Non-Null Count   Dtype \n",
      "---  ------               --------------   ----- \n",
      " 0   Ind_ID               278848 non-null  int64 \n",
      " 1   Test_date            278848 non-null  object\n",
      " 2   Cough_symptoms       278848 non-null  object\n",
      " 3   Fever                278848 non-null  object\n",
      " 4   Sore_throat          278848 non-null  object\n",
      " 5   Shortness_of_breath  278848 non-null  object\n",
      " 6   Headache             278848 non-null  object\n",
      " 7   Corona               278848 non-null  object\n",
      " 8   Age_60_above         278848 non-null  object\n",
      " 9   Sex                  278848 non-null  object\n",
      " 10  Known_contact        278848 non-null  object\n",
      "dtypes: int64(1), object(10)\n",
      "memory usage: 23.4+ MB\n"
     ]
    }
   ],
   "source": [
    "# checking data types and missing values\n",
    "df.info()"
   ]
  },
  {
   "cell_type": "code",
   "execution_count": 334,
   "id": "04a8023f",
   "metadata": {},
   "outputs": [
    {
     "name": "stdout",
     "output_type": "stream",
     "text": [
      "\n",
      "Categories in 'Cough_symptoms' variable: \n",
      "False    127531\n",
      "FALSE    108837\n",
      "TRUE      21983\n",
      "True      20245\n",
      "None        252\n",
      "Name: Cough_symptoms, dtype: int64\n",
      "\n",
      "Categories in 'Fever' variable: \n",
      "False    137774\n",
      "FALSE    119070\n",
      "TRUE      11750\n",
      "True      10002\n",
      "None        252\n",
      "Name: Fever, dtype: int64\n",
      "\n",
      "Categories in 'Sore_throat' variable: \n",
      "False    212584\n",
      "FALSE     64337\n",
      "TRUE       1198\n",
      "True        728\n",
      "None          1\n",
      "Name: Sore_throat, dtype: int64\n",
      "\n",
      "Categories in 'Shortness_of_breath' variable: \n",
      "False    212842\n",
      "FALSE     64428\n",
      "TRUE       1107\n",
      "True        470\n",
      "None          1\n",
      "Name: Shortness_of_breath, dtype: int64\n",
      "\n",
      "Categories in 'Headache' variable: \n",
      "False    212326\n",
      "FALSE     64107\n",
      "TRUE       1428\n",
      "True        986\n",
      "None          1\n",
      "Name: Headache, dtype: int64\n",
      "\n",
      "Categories in 'Corona' variable: \n",
      "negative    260227\n",
      "positive     14729\n",
      "other         3892\n",
      "Name: Corona, dtype: int64\n",
      "\n",
      "Categories in 'Age_60_above' variable: \n",
      "None    127320\n",
      "No      125703\n",
      "Yes      25825\n",
      "Name: Age_60_above, dtype: int64\n",
      "\n",
      "Categories in 'Sex' variable: \n",
      "female    130158\n",
      "male      129127\n",
      "None       19563\n",
      "Name: Sex, dtype: int64\n",
      "\n",
      "Categories in 'Known_contact' variable: \n",
      "Other                     242741\n",
      "Abroad                     25468\n",
      "Contact with confirmed     10639\n",
      "Name: Known_contact, dtype: int64\n"
     ]
    }
   ],
   "source": [
    "# basic exploration\n",
    "print(\"\\nCategories in 'Cough_symptoms' variable: \")\n",
    "print(df['Cough_symptoms'].value_counts())\n",
    "\n",
    "print(\"\\nCategories in 'Fever' variable: \")\n",
    "print(df['Fever'].value_counts())\n",
    "\n",
    "print(\"\\nCategories in 'Sore_throat' variable: \")\n",
    "print(df['Sore_throat'].value_counts())\n",
    "\n",
    "print(\"\\nCategories in 'Shortness_of_breath' variable: \")\n",
    "print(df['Shortness_of_breath'].value_counts())\n",
    "\n",
    "print(\"\\nCategories in 'Headache' variable: \")\n",
    "print(df['Headache'].value_counts())\n",
    "\n",
    "print(\"\\nCategories in 'Corona' variable: \")\n",
    "print(df['Corona'].value_counts())\n",
    "\n",
    "print(\"\\nCategories in 'Age_60_above' variable: \")\n",
    "print(df['Age_60_above'].value_counts())\n",
    "\n",
    "print(\"\\nCategories in 'Sex' variable: \")\n",
    "print(df['Sex'].value_counts())\n",
    "\n",
    "print(\"\\nCategories in 'Known_contact' variable: \")\n",
    "print(df['Known_contact'].value_counts())"
   ]
  },
  {
   "cell_type": "code",
   "execution_count": 335,
   "id": "e5258ae0",
   "metadata": {},
   "outputs": [],
   "source": [
    "# renaming the necessary columns\n",
    "df = df.rename(columns={'Cough_symptoms': 'Cough'})"
   ]
  },
  {
   "cell_type": "markdown",
   "id": "a5a6c4e0",
   "metadata": {},
   "source": [
    "- Upon primary inspection of the given dataset, we can observe that our dataset is slightly uneven and inconsistent.\n",
    "- To name a few anomalies, the symptoms generally should have binary outcome viz.\"True\" or \"False\", but in the given dataset the case of the same binary outcome is not consistent throughout, which in turn causes the program to misjudge the oboviously two visible binary outcomes as more than two categories, for example: TRUE, True, FALSE, False."
   ]
  },
  {
   "cell_type": "markdown",
   "id": "0a1e408b",
   "metadata": {},
   "source": [
    "### Missing values and visualization analysis"
   ]
  },
  {
   "cell_type": "code",
   "execution_count": 336,
   "id": "d7dc5012",
   "metadata": {},
   "outputs": [
    {
     "data": {
      "text/plain": [
       "Ind_ID                 0\n",
       "Test_date              0\n",
       "Cough                  0\n",
       "Fever                  0\n",
       "Sore_throat            0\n",
       "Shortness_of_breath    0\n",
       "Headache               0\n",
       "Corona                 0\n",
       "Age_60_above           0\n",
       "Sex                    0\n",
       "Known_contact          0\n",
       "dtype: int64"
      ]
     },
     "execution_count": 336,
     "metadata": {},
     "output_type": "execute_result"
    }
   ],
   "source": [
    "df.isna().sum()"
   ]
  },
  {
   "cell_type": "markdown",
   "id": "52c53580",
   "metadata": {},
   "source": [
    "- from the elementary inspection, we can observed that there are certain null values in the dataset.\n",
    "- moreover this not detected by isna() function."
   ]
  },
  {
   "cell_type": "code",
   "execution_count": 337,
   "id": "53a51a13",
   "metadata": {},
   "outputs": [],
   "source": [
    "# Hence we make our data consistent in the following format.\n",
    "df['Cough'] = df['Cough'].replace({'FALSE': 'false', 'TRUE': 'true', 'none': None})\n",
    "df['Cough'] = df['Cough'].replace({'false': False, 'true': True})\n",
    "\n",
    "df['Fever'] = df['Fever'].replace({'FALSE': 'false', 'TRUE': 'true', 'none': None})\n",
    "df['Fever'] = df['Fever'].replace({'false': False, 'true': True})\n",
    "\n",
    "df['Sore_throat'] = df['Sore_throat'].replace({'FALSE': 'false', 'TRUE': 'true', 'none': None})\n",
    "df['Sore_throat'] = df['Sore_throat'].replace({'false': False, 'true': True})\n",
    "\n",
    "df['Shortness_of_breath'] = df['Shortness_of_breath'].replace({'FALSE': 'false', 'TRUE': 'true', 'none': None})\n",
    "df['Shortness_of_breath'] = df['Shortness_of_breath'].replace({'false': False, 'true': True})\n",
    "\n",
    "df['Headache'] = df['Headache'].replace({'FALSE': 'false', 'TRUE': 'true', 'none': None})\n",
    "df['Headache'] = df['Headache'].replace({'false': False, 'true': True})\n",
    "\n",
    "df['Sex'] = df['Sex'].replace({'female': 'false', 'male': 'true', 'none': None})\n",
    "df['Sex'] = df['Sex'].replace({'false': False, 'true': True})"
   ]
  },
  {
   "cell_type": "code",
   "execution_count": 338,
   "id": "8a0d74aa",
   "metadata": {},
   "outputs": [
    {
     "data": {
      "text/html": [
       "<div>\n",
       "<style scoped>\n",
       "    .dataframe tbody tr th:only-of-type {\n",
       "        vertical-align: middle;\n",
       "    }\n",
       "\n",
       "    .dataframe tbody tr th {\n",
       "        vertical-align: top;\n",
       "    }\n",
       "\n",
       "    .dataframe thead th {\n",
       "        text-align: right;\n",
       "    }\n",
       "</style>\n",
       "<table border=\"1\" class=\"dataframe\">\n",
       "  <thead>\n",
       "    <tr style=\"text-align: right;\">\n",
       "      <th></th>\n",
       "      <th>Ind_ID</th>\n",
       "      <th>Test_date</th>\n",
       "      <th>Cough</th>\n",
       "      <th>Fever</th>\n",
       "      <th>Sore_throat</th>\n",
       "      <th>Shortness_of_breath</th>\n",
       "      <th>Headache</th>\n",
       "      <th>Corona</th>\n",
       "      <th>Age_60_above</th>\n",
       "      <th>Sex</th>\n",
       "      <th>Known_contact</th>\n",
       "    </tr>\n",
       "  </thead>\n",
       "  <tbody>\n",
       "    <tr>\n",
       "      <th>0</th>\n",
       "      <td>1</td>\n",
       "      <td>11-03-2020</td>\n",
       "      <td>True</td>\n",
       "      <td>False</td>\n",
       "      <td>True</td>\n",
       "      <td>False</td>\n",
       "      <td>False</td>\n",
       "      <td>negative</td>\n",
       "      <td>None</td>\n",
       "      <td>None</td>\n",
       "      <td>Abroad</td>\n",
       "    </tr>\n",
       "    <tr>\n",
       "      <th>1</th>\n",
       "      <td>2</td>\n",
       "      <td>11-03-2020</td>\n",
       "      <td>False</td>\n",
       "      <td>True</td>\n",
       "      <td>False</td>\n",
       "      <td>False</td>\n",
       "      <td>False</td>\n",
       "      <td>positive</td>\n",
       "      <td>None</td>\n",
       "      <td>None</td>\n",
       "      <td>Abroad</td>\n",
       "    </tr>\n",
       "    <tr>\n",
       "      <th>2</th>\n",
       "      <td>3</td>\n",
       "      <td>11-03-2020</td>\n",
       "      <td>False</td>\n",
       "      <td>True</td>\n",
       "      <td>False</td>\n",
       "      <td>False</td>\n",
       "      <td>False</td>\n",
       "      <td>positive</td>\n",
       "      <td>None</td>\n",
       "      <td>None</td>\n",
       "      <td>Abroad</td>\n",
       "    </tr>\n",
       "    <tr>\n",
       "      <th>3</th>\n",
       "      <td>4</td>\n",
       "      <td>11-03-2020</td>\n",
       "      <td>True</td>\n",
       "      <td>False</td>\n",
       "      <td>False</td>\n",
       "      <td>False</td>\n",
       "      <td>False</td>\n",
       "      <td>negative</td>\n",
       "      <td>None</td>\n",
       "      <td>None</td>\n",
       "      <td>Abroad</td>\n",
       "    </tr>\n",
       "    <tr>\n",
       "      <th>4</th>\n",
       "      <td>5</td>\n",
       "      <td>11-03-2020</td>\n",
       "      <td>True</td>\n",
       "      <td>False</td>\n",
       "      <td>False</td>\n",
       "      <td>False</td>\n",
       "      <td>False</td>\n",
       "      <td>negative</td>\n",
       "      <td>None</td>\n",
       "      <td>None</td>\n",
       "      <td>Contact with confirmed</td>\n",
       "    </tr>\n",
       "  </tbody>\n",
       "</table>\n",
       "</div>"
      ],
      "text/plain": [
       "   Ind_ID   Test_date  Cough  Fever Sore_throat Shortness_of_breath Headache  \\\n",
       "0       1  11-03-2020   True  False        True               False    False   \n",
       "1       2  11-03-2020  False   True       False               False    False   \n",
       "2       3  11-03-2020  False   True       False               False    False   \n",
       "3       4  11-03-2020   True  False       False               False    False   \n",
       "4       5  11-03-2020   True  False       False               False    False   \n",
       "\n",
       "     Corona Age_60_above   Sex           Known_contact  \n",
       "0  negative         None  None                  Abroad  \n",
       "1  positive         None  None                  Abroad  \n",
       "2  positive         None  None                  Abroad  \n",
       "3  negative         None  None                  Abroad  \n",
       "4  negative         None  None  Contact with confirmed  "
      ]
     },
     "execution_count": 338,
     "metadata": {},
     "output_type": "execute_result"
    }
   ],
   "source": [
    "data=df.copy()\n",
    "data1=df.copy()\n",
    "data.head()"
   ]
  },
  {
   "cell_type": "markdown",
   "id": "d7197cac",
   "metadata": {},
   "source": [
    "### Plotting the distribution of the plot"
   ]
  },
  {
   "cell_type": "code",
   "execution_count": 339,
   "id": "b07316f3",
   "metadata": {},
   "outputs": [
    {
     "data": {
      "image/png": "[encoded data removed]",
      "text/plain": [
       "<Figure size 432x288 with 1 Axes>"
      ]
     },
     "metadata": {
      "needs_background": "light"
     },
     "output_type": "display_data"
    },
    {
     "data": {
      "image/png": "[encoded data removed]",
      "text/plain": [
       "<Figure size 432x288 with 1 Axes>"
      ]
     },
     "metadata": {
      "needs_background": "light"
     },
     "output_type": "display_data"
    },
    {
     "data": {
      "image/png": "[encoded data removed]",
      "text/plain": [
       "<Figure size 432x288 with 1 Axes>"
      ]
     },
     "metadata": {
      "needs_background": "light"
     },
     "output_type": "display_data"
    },
    {
     "data": {
      "image/png": "[encoded data removed]",
      "text/plain": [
       "<Figure size 432x288 with 1 Axes>"
      ]
     },
     "metadata": {
      "needs_background": "light"
     },
     "output_type": "display_data"
    },
    {
     "data": {
      "image/png": "[encoded data removed]",
      "text/plain": [
       "<Figure size 432x288 with 1 Axes>"
      ]
     },
     "metadata": {
      "needs_background": "light"
     },
     "output_type": "display_data"
    },
    {
     "data": {
      "image/png": "[encoded data removed]",
      "text/plain": [
       "<Figure size 432x288 with 1 Axes>"
      ]
     },
     "metadata": {
      "needs_background": "light"
     },
     "output_type": "display_data"
    },
    {
     "data": {
      "image/png": "[encoded data removed]",
      "text/plain": [
       "<Figure size 432x288 with 1 Axes>"
      ]
     },
     "metadata": {
      "needs_background": "light"
     },
     "output_type": "display_data"
    },
    {
     "data": {
      "image/png": "[encoded data removed]",
      "text/plain": [
       "<Figure size 432x288 with 1 Axes>"
      ]
     },
     "metadata": {
      "needs_background": "light"
     },
     "output_type": "display_data"
    },
    {
     "data": {
      "image/png": "[encoded data removed]",
      "text/plain": [
       "<Figure size 432x288 with 1 Axes>"
      ]
     },
     "metadata": {
      "needs_background": "light"
     },
     "output_type": "display_data"
    }
   ],
   "source": [
    "# count plot of Covid report\n",
    "sns.countplot(x='Corona', data=df)\n",
    "plt.show()\n",
    "\n",
    "# count plot of Sex\n",
    "sns.countplot(x='Sex', data=df)\n",
    "plt.show()\n",
    "\n",
    "# count plot of Age\n",
    "sns.countplot(x='Age_60_above', data=df)\n",
    "plt.show()\n",
    "\n",
    "# count plot of other categorical variables\n",
    "sns.countplot(x='Cough', data=df)\n",
    "plt.show()\n",
    "\n",
    "sns.countplot(x='Fever', data=df)\n",
    "plt.show()\n",
    "\n",
    "sns.countplot(x='Sore_throat', data=df)\n",
    "plt.show()\n",
    "\n",
    "sns.countplot(x='Shortness_of_breath', data=df)\n",
    "plt.show()\n",
    "\n",
    "sns.countplot(x='Headache', data=df)\n",
    "plt.show()\n",
    "\n",
    "sns.countplot(x='Known_contact', data=df)\n",
    "plt.show()"
   ]
  },
  {
   "cell_type": "markdown",
   "id": "76e70670",
   "metadata": {},
   "source": [
    "- As we see our data is quite unsymetrical and imbalanced, in the sense, negative cases are drastically high as compare to positive cases.\n",
    "- As we can see that negative caases are quite high this highlights most of the symptoms in the surveyed individual are at low intensity.\n",
    "- Also under the age parameter most of the observations are below age 60.\n",
    "- Also one of the most important observation from the dataset most of the people surveyed have unkown origin of contact."
   ]
  },
  {
   "cell_type": "code",
   "execution_count": 340,
   "id": "a8274dfe",
   "metadata": {},
   "outputs": [],
   "source": [
    "data = data.replace(to_replace=\"None\", value=float('nan')) # converting into NaN values"
   ]
  },
  {
   "cell_type": "code",
   "execution_count": 341,
   "id": "61744c7c",
   "metadata": {},
   "outputs": [
    {
     "data": {
      "text/html": [
       "<div>\n",
       "<style scoped>\n",
       "    .dataframe tbody tr th:only-of-type {\n",
       "        vertical-align: middle;\n",
       "    }\n",
       "\n",
       "    .dataframe tbody tr th {\n",
       "        vertical-align: top;\n",
       "    }\n",
       "\n",
       "    .dataframe thead th {\n",
       "        text-align: right;\n",
       "    }\n",
       "</style>\n",
       "<table border=\"1\" class=\"dataframe\">\n",
       "  <thead>\n",
       "    <tr style=\"text-align: right;\">\n",
       "      <th></th>\n",
       "      <th>Ind_ID</th>\n",
       "      <th>Test_date</th>\n",
       "      <th>Cough</th>\n",
       "      <th>Fever</th>\n",
       "      <th>Sore_throat</th>\n",
       "      <th>Shortness_of_breath</th>\n",
       "      <th>Headache</th>\n",
       "      <th>Corona</th>\n",
       "      <th>Age_60_above</th>\n",
       "      <th>Sex</th>\n",
       "      <th>Known_contact</th>\n",
       "    </tr>\n",
       "  </thead>\n",
       "  <tbody>\n",
       "    <tr>\n",
       "      <th>0</th>\n",
       "      <td>1</td>\n",
       "      <td>11-03-2020</td>\n",
       "      <td>True</td>\n",
       "      <td>False</td>\n",
       "      <td>True</td>\n",
       "      <td>False</td>\n",
       "      <td>False</td>\n",
       "      <td>negative</td>\n",
       "      <td>NaN</td>\n",
       "      <td>NaN</td>\n",
       "      <td>Abroad</td>\n",
       "    </tr>\n",
       "    <tr>\n",
       "      <th>1</th>\n",
       "      <td>2</td>\n",
       "      <td>11-03-2020</td>\n",
       "      <td>False</td>\n",
       "      <td>True</td>\n",
       "      <td>False</td>\n",
       "      <td>False</td>\n",
       "      <td>False</td>\n",
       "      <td>positive</td>\n",
       "      <td>NaN</td>\n",
       "      <td>NaN</td>\n",
       "      <td>Abroad</td>\n",
       "    </tr>\n",
       "    <tr>\n",
       "      <th>2</th>\n",
       "      <td>3</td>\n",
       "      <td>11-03-2020</td>\n",
       "      <td>False</td>\n",
       "      <td>True</td>\n",
       "      <td>False</td>\n",
       "      <td>False</td>\n",
       "      <td>False</td>\n",
       "      <td>positive</td>\n",
       "      <td>NaN</td>\n",
       "      <td>NaN</td>\n",
       "      <td>Abroad</td>\n",
       "    </tr>\n",
       "    <tr>\n",
       "      <th>3</th>\n",
       "      <td>4</td>\n",
       "      <td>11-03-2020</td>\n",
       "      <td>True</td>\n",
       "      <td>False</td>\n",
       "      <td>False</td>\n",
       "      <td>False</td>\n",
       "      <td>False</td>\n",
       "      <td>negative</td>\n",
       "      <td>NaN</td>\n",
       "      <td>NaN</td>\n",
       "      <td>Abroad</td>\n",
       "    </tr>\n",
       "    <tr>\n",
       "      <th>4</th>\n",
       "      <td>5</td>\n",
       "      <td>11-03-2020</td>\n",
       "      <td>True</td>\n",
       "      <td>False</td>\n",
       "      <td>False</td>\n",
       "      <td>False</td>\n",
       "      <td>False</td>\n",
       "      <td>negative</td>\n",
       "      <td>NaN</td>\n",
       "      <td>NaN</td>\n",
       "      <td>Contact with confirmed</td>\n",
       "    </tr>\n",
       "  </tbody>\n",
       "</table>\n",
       "</div>"
      ],
      "text/plain": [
       "   Ind_ID   Test_date  Cough  Fever Sore_throat Shortness_of_breath Headache  \\\n",
       "0       1  11-03-2020   True  False        True               False    False   \n",
       "1       2  11-03-2020  False   True       False               False    False   \n",
       "2       3  11-03-2020  False   True       False               False    False   \n",
       "3       4  11-03-2020   True  False       False               False    False   \n",
       "4       5  11-03-2020   True  False       False               False    False   \n",
       "\n",
       "     Corona Age_60_above  Sex           Known_contact  \n",
       "0  negative          NaN  NaN                  Abroad  \n",
       "1  positive          NaN  NaN                  Abroad  \n",
       "2  positive          NaN  NaN                  Abroad  \n",
       "3  negative          NaN  NaN                  Abroad  \n",
       "4  negative          NaN  NaN  Contact with confirmed  "
      ]
     },
     "execution_count": 341,
     "metadata": {},
     "output_type": "execute_result"
    }
   ],
   "source": [
    "data.head()"
   ]
  },
  {
   "cell_type": "code",
   "execution_count": 342,
   "id": "e725f524",
   "metadata": {},
   "outputs": [
    {
     "name": "stdout",
     "output_type": "stream",
     "text": [
      "Ind_ID                      0\n",
      "Test_date                   0\n",
      "Cough                     252\n",
      "Fever                     252\n",
      "Sore_throat                 1\n",
      "Shortness_of_breath         1\n",
      "Headache                    1\n",
      "Corona                      0\n",
      "Age_60_above           127320\n",
      "Sex                     19563\n",
      "Known_contact               0\n",
      "dtype: int64\n",
      "Ind_ID                  0.000000\n",
      "Test_date               0.000000\n",
      "Cough                   0.090372\n",
      "Fever                   0.090372\n",
      "Sore_throat             0.000359\n",
      "Shortness_of_breath     0.000359\n",
      "Headache                0.000359\n",
      "Corona                  0.000000\n",
      "Age_60_above           45.659284\n",
      "Sex                     7.015650\n",
      "Known_contact           0.000000\n",
      "dtype: float64\n"
     ]
    }
   ],
   "source": [
    "missing_value_sum = data.isnull().sum()\n",
    "print(missing_value_sum)\n",
    "missing_value_percentage = data.isnull().mean()*100\n",
    "print(missing_value_percentage)"
   ]
  },
  {
   "cell_type": "markdown",
   "id": "6f246241",
   "metadata": {},
   "source": [
    "- under the age parameter, it is observed that almost half of the datapoints are not specific regarding the age or they are missing.\n",
    "- we can see that the variables \"Age_60_above\" and \"Sex\" have a relatively high percentage of missing values, with 45.66% and 7.02%, respectively.\n",
    "- It is also important to note that \"Cough\" and \"Fever\" have the same number of missing values, indicating a possible relationship between the two variables."
   ]
  },
  {
   "cell_type": "code",
   "execution_count": 343,
   "id": "5bf3d0a4",
   "metadata": {},
   "outputs": [],
   "source": [
    "import missingno as msno # importing missingno liabrary"
   ]
  },
  {
   "cell_type": "code",
   "execution_count": 344,
   "id": "bd7ce86e",
   "metadata": {},
   "outputs": [
    {
     "data": {
      "text/plain": [
       "<AxesSubplot:>"
      ]
     },
     "execution_count": 344,
     "metadata": {},
     "output_type": "execute_result"
    },
    {
     "data": {
      "image/png": "[encoded data removed]",
      "text/plain": [
       "<Figure size 1800x720 with 3 Axes>"
      ]
     },
     "metadata": {
      "needs_background": "light"
     },
     "output_type": "display_data"
    }
   ],
   "source": [
    "msno.bar(data)"
   ]
  },
  {
   "cell_type": "markdown",
   "id": "f063e19b",
   "metadata": {},
   "source": [
    "- There are missing values in multiple colums \n",
    "- age_60_above have almost half of the observation are missing \n",
    "- cough,fever,sore_throat,shortness_of_breath,headache have low amount missing values \n",
    "- sex column have 7 percent of data is missing."
   ]
  },
  {
   "cell_type": "code",
   "execution_count": 345,
   "id": "12efaee5",
   "metadata": {},
   "outputs": [
    {
     "data": {
      "text/plain": [
       "<AxesSubplot:>"
      ]
     },
     "execution_count": 345,
     "metadata": {},
     "output_type": "execute_result"
    },
    {
     "data": {
      "image/png": "[encoded data removed]",
      "text/plain": [
       "<Figure size 1800x720 with 2 Axes>"
      ]
     },
     "metadata": {
      "needs_background": "light"
     },
     "output_type": "display_data"
    }
   ],
   "source": [
    "msno.matrix(data)"
   ]
  },
  {
   "cell_type": "markdown",
   "id": "2f78601f",
   "metadata": {},
   "source": [
    "- It seems that the missing data in the \"Age_60_above\" feature is not random but rather systematic, with a clear pattern of missing values in certain segments of the data. \n",
    "- Similarly, the missing data in the \"Sex\" feature also seems to follow a pattern, with thin lines of missing values at random intervals."
   ]
  },
  {
   "cell_type": "code",
   "execution_count": 346,
   "id": "ceb49b00",
   "metadata": {},
   "outputs": [
    {
     "data": {
      "text/plain": [
       "<AxesSubplot:>"
      ]
     },
     "execution_count": 346,
     "metadata": {},
     "output_type": "execute_result"
    },
    {
     "data": {
      "image/png": "[encoded data removed]",
      "text/plain": [
       "<Figure size 1800x720 with 2 Axes>"
      ]
     },
     "metadata": {
      "needs_background": "light"
     },
     "output_type": "display_data"
    }
   ],
   "source": [
    "sorted = data.sort_values(\"Sex\")\n",
    "msno.matrix(sorted)"
   ]
  },
  {
   "cell_type": "code",
   "execution_count": 347,
   "id": "3bcbb517",
   "metadata": {},
   "outputs": [],
   "source": [
    "#relation = data.loc[(data[\"Corona\"] == \"negative\")]\n",
    "#relation"
   ]
  },
  {
   "cell_type": "code",
   "execution_count": 348,
   "id": "7e1b0cbc",
   "metadata": {},
   "outputs": [
    {
     "data": {
      "text/plain": [
       "<AxesSubplot:>"
      ]
     },
     "execution_count": 348,
     "metadata": {},
     "output_type": "execute_result"
    },
    {
     "data": {
      "image/png": "[encoded data removed]",
      "text/plain": [
       "<Figure size 1440x864 with 2 Axes>"
      ]
     },
     "metadata": {
      "needs_background": "light"
     },
     "output_type": "display_data"
    }
   ],
   "source": [
    "msno.heatmap(data)"
   ]
  },
  {
   "cell_type": "markdown",
   "id": "789dfb55",
   "metadata": {},
   "source": [
    "- A correlation value of 1 signifies a perfect positive correlation for shortness of breath, headache, and sore throat. It suggests that if one of these features are missing, the other two features are also always missing. This could indicate that these symptoms are often reported together.\n",
    "- The correlation values of 0.1 between cough, fever, and the other features suggest a weaker relationship, indicating that if one of these features is missing, it is slightly more likely for the other features to be missing as well, but not always.\n",
    "- The weaker negative correlation value -0.1 between sex and Age_60_above suggests that if one of these features is missing, the other feature is less likely to be missing, meaning they are not missing together much frequently."
   ]
  },
  {
   "cell_type": "markdown",
   "id": "114c0749",
   "metadata": {},
   "source": [
    "### Missing value analysis Summary"
   ]
  },
  {
   "cell_type": "markdown",
   "id": "16efbf7b",
   "metadata": {},
   "source": [
    "#### Based on the the missing values analysis summary can be as follows:\n",
    "\n",
    "- Age parameter has a high percentage of missing values. This indicates that almost half of the data points are not specific regarding the age or are missing.\n",
    "- From matrix1 chart we observe that the missing data in the \"Age_60_above\" feature is not random but rather systematic, with a clear pattern of missing values in certain segments of the data. Similarly, the missing data in the \"Sex\" feature also seems to follow a pattern, with thin lines of missing values at random intervals.\n",
    "- From matrix2 chart and heatmap, they have some relation between them but it is weak and negative(-0.1) and it also suggests that if one of these features is missing, the other feature is very less likely to be missing, meaning they are not missing together frequently. This missingness may be \"Missing At Random(MAR)\". \n",
    "\n"
   ]
  },
  {
   "cell_type": "markdown",
   "id": "e0d6ad55",
   "metadata": {},
   "source": [
    "### Handling the missing values with justification through visualization"
   ]
  },
  {
   "cell_type": "code",
   "execution_count": 349,
   "id": "76f0ba47",
   "metadata": {},
   "outputs": [
    {
     "data": {
      "text/html": [
       "<div>\n",
       "<style scoped>\n",
       "    .dataframe tbody tr th:only-of-type {\n",
       "        vertical-align: middle;\n",
       "    }\n",
       "\n",
       "    .dataframe tbody tr th {\n",
       "        vertical-align: top;\n",
       "    }\n",
       "\n",
       "    .dataframe thead th {\n",
       "        text-align: right;\n",
       "    }\n",
       "</style>\n",
       "<table border=\"1\" class=\"dataframe\">\n",
       "  <thead>\n",
       "    <tr style=\"text-align: right;\">\n",
       "      <th></th>\n",
       "      <th>Ind_ID</th>\n",
       "      <th>Test_date</th>\n",
       "      <th>Cough</th>\n",
       "      <th>Fever</th>\n",
       "      <th>Sore_throat</th>\n",
       "      <th>Shortness_of_breath</th>\n",
       "      <th>Headache</th>\n",
       "      <th>Corona</th>\n",
       "      <th>Age_60_above</th>\n",
       "      <th>Sex</th>\n",
       "      <th>Known_contact</th>\n",
       "    </tr>\n",
       "  </thead>\n",
       "  <tbody>\n",
       "    <tr>\n",
       "      <th>5</th>\n",
       "      <td>6</td>\n",
       "      <td>11-03-2020</td>\n",
       "      <td>True</td>\n",
       "      <td>False</td>\n",
       "      <td>False</td>\n",
       "      <td>False</td>\n",
       "      <td>False</td>\n",
       "      <td>other</td>\n",
       "      <td>None</td>\n",
       "      <td>None</td>\n",
       "      <td>Contact with confirmed</td>\n",
       "    </tr>\n",
       "    <tr>\n",
       "      <th>29</th>\n",
       "      <td>30</td>\n",
       "      <td>11-03-2020</td>\n",
       "      <td>True</td>\n",
       "      <td>False</td>\n",
       "      <td>False</td>\n",
       "      <td>False</td>\n",
       "      <td>False</td>\n",
       "      <td>other</td>\n",
       "      <td>None</td>\n",
       "      <td>None</td>\n",
       "      <td>Abroad</td>\n",
       "    </tr>\n",
       "    <tr>\n",
       "      <th>55</th>\n",
       "      <td>56</td>\n",
       "      <td>11-03-2020</td>\n",
       "      <td>True</td>\n",
       "      <td>True</td>\n",
       "      <td>True</td>\n",
       "      <td>False</td>\n",
       "      <td>False</td>\n",
       "      <td>other</td>\n",
       "      <td>None</td>\n",
       "      <td>None</td>\n",
       "      <td>Other</td>\n",
       "    </tr>\n",
       "  </tbody>\n",
       "</table>\n",
       "</div>"
      ],
      "text/plain": [
       "    Ind_ID   Test_date Cough  Fever Sore_throat Shortness_of_breath Headache  \\\n",
       "5        6  11-03-2020  True  False       False               False    False   \n",
       "29      30  11-03-2020  True  False       False               False    False   \n",
       "55      56  11-03-2020  True   True        True               False    False   \n",
       "\n",
       "   Corona Age_60_above   Sex           Known_contact  \n",
       "5   other         None  None  Contact with confirmed  \n",
       "29  other         None  None                  Abroad  \n",
       "55  other         None  None                   Other  "
      ]
     },
     "execution_count": 349,
     "metadata": {},
     "output_type": "execute_result"
    }
   ],
   "source": [
    "corona_other = df[df['Corona'] == 'other']\n",
    "corona_other.head(3)"
   ]
  },
  {
   "cell_type": "code",
   "execution_count": 350,
   "id": "37b31770",
   "metadata": {},
   "outputs": [
    {
     "data": {
      "image/png": "[encoded data removed]",
      "text/plain": [
       "<Figure size 432x288 with 1 Axes>"
      ]
     },
     "metadata": {
      "needs_background": "light"
     },
     "output_type": "display_data"
    }
   ],
   "source": [
    "symptoms = ['Cough', \"Fever\",'Sore_throat', 'Shortness_of_breath', 'Headache']\n",
    "counts = [corona_other[symptom].value_counts()[True] for symptom in symptoms]\n",
    "plt.bar(symptoms, counts)\n",
    "plt.title('Symptoms in Patients with other category')\n",
    "plt.xlabel('Symptoms')\n",
    "plt.ylabel('Number of Patients')\n",
    "plt.show()"
   ]
  },
  {
   "cell_type": "markdown",
   "id": "d5bdebf4",
   "metadata": {},
   "source": [
    "- While inspecting the given dataset, it is primarly  observed that under the corona test column, there are three categories viz: positive, negative and other.\n",
    "- Now the \"other\" category, which possibly signifies that the individual is neither positive nor negative for covid19 disease and this strongly highlights that the individual has another disease which is not covid 19.\n",
    "- Regarding the symptoms, the another unkown disease can be assumed to have similar symptoms to covid 19, hence we eliminate the \"other\" category from the outcome variable"
   ]
  },
  {
   "cell_type": "code",
   "execution_count": 351,
   "id": "d8476f77",
   "metadata": {},
   "outputs": [],
   "source": [
    "# converting them into \n",
    "data['Corona'] = data['Corona'].replace({'negative': 'false', 'positive': 'true'})\n",
    "data['Corona'] = data['Corona'].replace({'false': False, 'true': True})         "
   ]
  },
  {
   "cell_type": "code",
   "execution_count": 352,
   "id": "8848d7ea",
   "metadata": {},
   "outputs": [],
   "source": [
    "# removing the Corona category other\n",
    "data = data[data['Corona'] != 'other']\n",
    "data1 = data1[data1['Corona'] != 'other']"
   ]
  },
  {
   "cell_type": "code",
   "execution_count": 353,
   "id": "414c4ec5",
   "metadata": {},
   "outputs": [
    {
     "data": {
      "text/plain": [
       "<AxesSubplot:xlabel='Age_60_above', ylabel='count'>"
      ]
     },
     "execution_count": 353,
     "metadata": {},
     "output_type": "execute_result"
    },
    {
     "data": {
      "image/png": "[encoded data removed]",
      "text/plain": [
       "<Figure size 432x288 with 1 Axes>"
      ]
     },
     "metadata": {},
     "output_type": "display_data"
    }
   ],
   "source": [
    "sns.set_style(\"whitegrid\")\n",
    "sns.countplot(x=\"Age_60_above\", hue=\"Corona\",data=data1,palette='RdBu_r')"
   ]
  },
  {
   "cell_type": "code",
   "execution_count": 354,
   "id": "2359f7ee",
   "metadata": {},
   "outputs": [
    {
     "data": {
      "text/plain": [
       "<AxesSubplot:xlabel='Corona', ylabel='count'>"
      ]
     },
     "execution_count": 354,
     "metadata": {},
     "output_type": "execute_result"
    },
    {
     "data": {
      "image/png": "[encoded data removed]",
      "text/plain": [
       "<Figure size 432x288 with 1 Axes>"
      ]
     },
     "metadata": {},
     "output_type": "display_data"
    }
   ],
   "source": [
    "sns.set_style(\"whitegrid\")\n",
    "sns.countplot(x=\"Corona\", hue=\"Age_60_above\",data=data1,palette='RdBu_r')"
   ]
  },
  {
   "cell_type": "markdown",
   "id": "1ca69154",
   "metadata": {},
   "source": [
    "-  Upon initial inspection of the dataset, it was observed that the age_60_above column had a large number of missing values, with almost half of the observations missing. The visualization plot revealed that the missing values were mostly inclined towards negative cases.\n",
    "\n",
    "- As the dataset was unsymmetrical and imbalanced, imputing the missing values based on symptoms alone was not a viable option. Furthermore, there were no other features related to age, such as chronic health conditions like hypertension, diabetes, or heart disease, education level, or employment status available in the dataset for imputation purposes.\n",
    "\n",
    "- Given these limitations, removing the missing values was considered the best option. The sample size of the remaining observations was still sufficient, which justifies the action of eliminating the missing values."
   ]
  },
  {
   "cell_type": "code",
   "execution_count": 355,
   "id": "435fcaa3",
   "metadata": {},
   "outputs": [],
   "source": [
    "data['Age_60_above'] = data['Age_60_above'].replace({'No': 'false', 'Yes': 'true'})\n",
    "data['Age_60_above'] = data['Age_60_above'].replace({'false': False, 'true': True})"
   ]
  },
  {
   "cell_type": "code",
   "execution_count": 356,
   "id": "9ff4fa78",
   "metadata": {},
   "outputs": [],
   "source": [
    "#sns.set_style(\"whitegrid\")\n",
    "#sns.countplot(x=\"Corona\", hue=\"Known_contact\",data=data,palette='RdBu_r')"
   ]
  },
  {
   "cell_type": "code",
   "execution_count": 357,
   "id": "8b3a0f10",
   "metadata": {},
   "outputs": [],
   "source": [
    "#data = data[data['Known_contact'] != 'Abroad']\n",
    "#data1 = data1[data1['Known_contact'] != 'Abroad']"
   ]
  },
  {
   "cell_type": "code",
   "execution_count": 358,
   "id": "61b4fda1",
   "metadata": {},
   "outputs": [],
   "source": [
    "data = data.dropna(axis=0)"
   ]
  },
  {
   "cell_type": "code",
   "execution_count": 359,
   "id": "36d75236",
   "metadata": {},
   "outputs": [
    {
     "data": {
      "text/html": [
       "<div>\n",
       "<style scoped>\n",
       "    .dataframe tbody tr th:only-of-type {\n",
       "        vertical-align: middle;\n",
       "    }\n",
       "\n",
       "    .dataframe tbody tr th {\n",
       "        vertical-align: top;\n",
       "    }\n",
       "\n",
       "    .dataframe thead th {\n",
       "        text-align: right;\n",
       "    }\n",
       "</style>\n",
       "<table border=\"1\" class=\"dataframe\">\n",
       "  <thead>\n",
       "    <tr style=\"text-align: right;\">\n",
       "      <th></th>\n",
       "      <th>Ind_ID</th>\n",
       "      <th>Test_date</th>\n",
       "      <th>Cough</th>\n",
       "      <th>Fever</th>\n",
       "      <th>Sore_throat</th>\n",
       "      <th>Shortness_of_breath</th>\n",
       "      <th>Headache</th>\n",
       "      <th>Corona</th>\n",
       "      <th>Age_60_above</th>\n",
       "      <th>Sex</th>\n",
       "      <th>Known_contact</th>\n",
       "    </tr>\n",
       "  </thead>\n",
       "  <tbody>\n",
       "    <tr>\n",
       "      <th>13727</th>\n",
       "      <td>13728</td>\n",
       "      <td>22-03-2020</td>\n",
       "      <td>True</td>\n",
       "      <td>False</td>\n",
       "      <td>False</td>\n",
       "      <td>False</td>\n",
       "      <td>False</td>\n",
       "      <td>False</td>\n",
       "      <td>False</td>\n",
       "      <td>True</td>\n",
       "      <td>Abroad</td>\n",
       "    </tr>\n",
       "    <tr>\n",
       "      <th>13728</th>\n",
       "      <td>13729</td>\n",
       "      <td>22-03-2020</td>\n",
       "      <td>True</td>\n",
       "      <td>False</td>\n",
       "      <td>False</td>\n",
       "      <td>False</td>\n",
       "      <td>False</td>\n",
       "      <td>False</td>\n",
       "      <td>False</td>\n",
       "      <td>False</td>\n",
       "      <td>Abroad</td>\n",
       "    </tr>\n",
       "    <tr>\n",
       "      <th>13730</th>\n",
       "      <td>13731</td>\n",
       "      <td>22-03-2020</td>\n",
       "      <td>True</td>\n",
       "      <td>True</td>\n",
       "      <td>False</td>\n",
       "      <td>False</td>\n",
       "      <td>False</td>\n",
       "      <td>True</td>\n",
       "      <td>True</td>\n",
       "      <td>False</td>\n",
       "      <td>Other</td>\n",
       "    </tr>\n",
       "    <tr>\n",
       "      <th>13734</th>\n",
       "      <td>13735</td>\n",
       "      <td>22-03-2020</td>\n",
       "      <td>False</td>\n",
       "      <td>False</td>\n",
       "      <td>False</td>\n",
       "      <td>False</td>\n",
       "      <td>False</td>\n",
       "      <td>False</td>\n",
       "      <td>False</td>\n",
       "      <td>True</td>\n",
       "      <td>Other</td>\n",
       "    </tr>\n",
       "    <tr>\n",
       "      <th>13735</th>\n",
       "      <td>13736</td>\n",
       "      <td>22-03-2020</td>\n",
       "      <td>False</td>\n",
       "      <td>False</td>\n",
       "      <td>False</td>\n",
       "      <td>False</td>\n",
       "      <td>False</td>\n",
       "      <td>False</td>\n",
       "      <td>False</td>\n",
       "      <td>False</td>\n",
       "      <td>Other</td>\n",
       "    </tr>\n",
       "  </tbody>\n",
       "</table>\n",
       "</div>"
      ],
      "text/plain": [
       "       Ind_ID   Test_date  Cough  Fever Sore_throat Shortness_of_breath  \\\n",
       "13727   13728  22-03-2020   True  False       False               False   \n",
       "13728   13729  22-03-2020   True  False       False               False   \n",
       "13730   13731  22-03-2020   True   True       False               False   \n",
       "13734   13735  22-03-2020  False  False       False               False   \n",
       "13735   13736  22-03-2020  False  False       False               False   \n",
       "\n",
       "      Headache Corona Age_60_above    Sex Known_contact  \n",
       "13727    False  False        False   True        Abroad  \n",
       "13728    False  False        False  False        Abroad  \n",
       "13730    False   True         True  False         Other  \n",
       "13734    False  False        False   True         Other  \n",
       "13735    False  False        False  False         Other  "
      ]
     },
     "execution_count": 359,
     "metadata": {},
     "output_type": "execute_result"
    }
   ],
   "source": [
    "data.head()"
   ]
  },
  {
   "cell_type": "code",
   "execution_count": 360,
   "id": "c868c643",
   "metadata": {},
   "outputs": [
    {
     "data": {
      "text/plain": [
       "(136294, 11)"
      ]
     },
     "execution_count": 360,
     "metadata": {},
     "output_type": "execute_result"
    }
   ],
   "source": [
    "data.shape"
   ]
  },
  {
   "cell_type": "code",
   "execution_count": 361,
   "id": "dd637ef4",
   "metadata": {},
   "outputs": [
    {
     "name": "stdout",
     "output_type": "stream",
     "text": [
      "       Ind_ID   Test_date  Cough  Fever  Sore_throat  Shortness_of_breath  \\\n",
      "13727   13728  22-03-2020      1      0            0                    0   \n",
      "13728   13729  22-03-2020      1      0            0                    0   \n",
      "13730   13731  22-03-2020      1      1            0                    0   \n",
      "13734   13735  22-03-2020      0      0            0                    0   \n",
      "13735   13736  22-03-2020      0      0            0                    0   \n",
      "\n",
      "       Headache  Corona  Age_60_above  Sex Known_contact  \n",
      "13727         0       0             0    1        Abroad  \n",
      "13728         0       0             0    0        Abroad  \n",
      "13730         0       1             1    0         Other  \n",
      "13734         0       0             0    1         Other  \n",
      "13735         0       0             0    0         Other  \n"
     ]
    }
   ],
   "source": [
    "import numpy as np\n",
    "\n",
    "# Convert columns to binary\n",
    "data['Cough'] = np.array(data['Cough'], dtype=int)\n",
    "data['Fever'] = np.array(data['Fever'], dtype=int)\n",
    "data['Sore_throat'] = np.array(data['Sore_throat'], dtype=int)\n",
    "data['Shortness_of_breath'] = np.array(data['Shortness_of_breath'], dtype=int)\n",
    "data['Headache'] = np.array(data['Headache'], dtype=int)\n",
    "data['Age_60_above'] = np.array(data['Age_60_above'], dtype=int)\n",
    "data['Sex'] = np.array(data['Sex'], dtype=int)\n",
    "data['Corona'] = np.array(data['Corona'], dtype=int)\n",
    "\n",
    "\n",
    "# Verify the conversion\n",
    "print(data.head())"
   ]
  },
  {
   "cell_type": "code",
   "execution_count": 362,
   "id": "9d1d1aab",
   "metadata": {},
   "outputs": [],
   "source": [
    "# Perform one-hot encoding on 'known_contact' variable\n",
    "data = pd.get_dummies(data, columns=['Known_contact'], prefix='known_contact')"
   ]
  },
  {
   "cell_type": "markdown",
   "id": "cb221848",
   "metadata": {},
   "source": [
    "### splitting the Dataset into Training , validation and Test sets"
   ]
  },
  {
   "cell_type": "code",
   "execution_count": 363,
   "id": "7e110df4",
   "metadata": {},
   "outputs": [],
   "source": [
    "from sklearn.model_selection import train_test_split\n",
    "# split the data into train, validation, and test sets\n",
    "train_val_df = data[data['Test_date'] < '2020-04-16']\n",
    "train_df, val_df = train_test_split(train_val_df, test_size=0.2, random_state=42)\n",
    "test_df = data[data['Test_date'] >= '2020-04-16']"
   ]
  },
  {
   "cell_type": "code",
   "execution_count": 364,
   "id": "0182c70f",
   "metadata": {},
   "outputs": [
    {
     "name": "stdout",
     "output_type": "stream",
     "text": [
      "(84480, 13)\n",
      "(67584, 13)\n",
      "(16896, 13)\n",
      "(51814, 13)\n"
     ]
    }
   ],
   "source": [
    "print(train_val_df.shape)\n",
    "\n",
    "print(train_df.shape)\n",
    "\n",
    "print(val_df.shape)\n",
    "\n",
    "print(test_df.shape)"
   ]
  },
  {
   "cell_type": "code",
   "execution_count": 365,
   "id": "dbe2a9fc",
   "metadata": {},
   "outputs": [],
   "source": [
    "train_val_df = train_val_df.drop(['Ind_ID', 'Test_date'], axis=1)\n",
    "train_df = train_df.drop(['Ind_ID', 'Test_date'], axis=1)\n",
    "val_df = val_df.drop(['Ind_ID', 'Test_date'], axis=1)\n",
    "test_df = test_df.drop(['Ind_ID', 'Test_date'], axis=1)"
   ]
  },
  {
   "cell_type": "code",
   "execution_count": 366,
   "id": "f6208e1a",
   "metadata": {},
   "outputs": [
    {
     "data": {
      "text/html": [
       "<div>\n",
       "<style scoped>\n",
       "    .dataframe tbody tr th:only-of-type {\n",
       "        vertical-align: middle;\n",
       "    }\n",
       "\n",
       "    .dataframe tbody tr th {\n",
       "        vertical-align: top;\n",
       "    }\n",
       "\n",
       "    .dataframe thead th {\n",
       "        text-align: right;\n",
       "    }\n",
       "</style>\n",
       "<table border=\"1\" class=\"dataframe\">\n",
       "  <thead>\n",
       "    <tr style=\"text-align: right;\">\n",
       "      <th></th>\n",
       "      <th>Cough</th>\n",
       "      <th>Fever</th>\n",
       "      <th>Sore_throat</th>\n",
       "      <th>Shortness_of_breath</th>\n",
       "      <th>Headache</th>\n",
       "      <th>Corona</th>\n",
       "      <th>Age_60_above</th>\n",
       "      <th>Sex</th>\n",
       "      <th>known_contact_Abroad</th>\n",
       "      <th>known_contact_Contact with confirmed</th>\n",
       "      <th>known_contact_Other</th>\n",
       "    </tr>\n",
       "  </thead>\n",
       "  <tbody>\n",
       "    <tr>\n",
       "      <th>124884</th>\n",
       "      <td>1</td>\n",
       "      <td>0</td>\n",
       "      <td>0</td>\n",
       "      <td>0</td>\n",
       "      <td>0</td>\n",
       "      <td>0</td>\n",
       "      <td>0</td>\n",
       "      <td>1</td>\n",
       "      <td>0</td>\n",
       "      <td>1</td>\n",
       "      <td>0</td>\n",
       "    </tr>\n",
       "    <tr>\n",
       "      <th>105431</th>\n",
       "      <td>0</td>\n",
       "      <td>0</td>\n",
       "      <td>0</td>\n",
       "      <td>0</td>\n",
       "      <td>0</td>\n",
       "      <td>0</td>\n",
       "      <td>1</td>\n",
       "      <td>1</td>\n",
       "      <td>0</td>\n",
       "      <td>0</td>\n",
       "      <td>1</td>\n",
       "    </tr>\n",
       "    <tr>\n",
       "      <th>128778</th>\n",
       "      <td>1</td>\n",
       "      <td>0</td>\n",
       "      <td>0</td>\n",
       "      <td>0</td>\n",
       "      <td>0</td>\n",
       "      <td>0</td>\n",
       "      <td>0</td>\n",
       "      <td>0</td>\n",
       "      <td>1</td>\n",
       "      <td>0</td>\n",
       "      <td>0</td>\n",
       "    </tr>\n",
       "  </tbody>\n",
       "</table>\n",
       "</div>"
      ],
      "text/plain": [
       "        Cough  Fever  Sore_throat  Shortness_of_breath  Headache  Corona  \\\n",
       "124884      1      0            0                    0         0       0   \n",
       "105431      0      0            0                    0         0       0   \n",
       "128778      1      0            0                    0         0       0   \n",
       "\n",
       "        Age_60_above  Sex  known_contact_Abroad  \\\n",
       "124884             0    1                     0   \n",
       "105431             1    1                     0   \n",
       "128778             0    0                     1   \n",
       "\n",
       "        known_contact_Contact with confirmed  known_contact_Other  \n",
       "124884                                     1                    0  \n",
       "105431                                     0                    1  \n",
       "128778                                     0                    0  "
      ]
     },
     "execution_count": 366,
     "metadata": {},
     "output_type": "execute_result"
    }
   ],
   "source": [
    "train_df.head(3)"
   ]
  },
  {
   "cell_type": "code",
   "execution_count": 367,
   "id": "33061b6c",
   "metadata": {},
   "outputs": [
    {
     "data": {
      "text/html": [
       "<div>\n",
       "<style scoped>\n",
       "    .dataframe tbody tr th:only-of-type {\n",
       "        vertical-align: middle;\n",
       "    }\n",
       "\n",
       "    .dataframe tbody tr th {\n",
       "        vertical-align: top;\n",
       "    }\n",
       "\n",
       "    .dataframe thead th {\n",
       "        text-align: right;\n",
       "    }\n",
       "</style>\n",
       "<table border=\"1\" class=\"dataframe\">\n",
       "  <thead>\n",
       "    <tr style=\"text-align: right;\">\n",
       "      <th></th>\n",
       "      <th>Cough</th>\n",
       "      <th>Fever</th>\n",
       "      <th>Sore_throat</th>\n",
       "      <th>Shortness_of_breath</th>\n",
       "      <th>Headache</th>\n",
       "      <th>Corona</th>\n",
       "      <th>Age_60_above</th>\n",
       "      <th>Sex</th>\n",
       "      <th>known_contact_Abroad</th>\n",
       "      <th>known_contact_Contact with confirmed</th>\n",
       "      <th>known_contact_Other</th>\n",
       "    </tr>\n",
       "  </thead>\n",
       "  <tbody>\n",
       "    <tr>\n",
       "      <th>131586</th>\n",
       "      <td>1</td>\n",
       "      <td>1</td>\n",
       "      <td>0</td>\n",
       "      <td>0</td>\n",
       "      <td>0</td>\n",
       "      <td>0</td>\n",
       "      <td>1</td>\n",
       "      <td>1</td>\n",
       "      <td>1</td>\n",
       "      <td>0</td>\n",
       "      <td>0</td>\n",
       "    </tr>\n",
       "    <tr>\n",
       "      <th>118892</th>\n",
       "      <td>0</td>\n",
       "      <td>0</td>\n",
       "      <td>0</td>\n",
       "      <td>0</td>\n",
       "      <td>0</td>\n",
       "      <td>1</td>\n",
       "      <td>0</td>\n",
       "      <td>1</td>\n",
       "      <td>1</td>\n",
       "      <td>0</td>\n",
       "      <td>0</td>\n",
       "    </tr>\n",
       "    <tr>\n",
       "      <th>101990</th>\n",
       "      <td>0</td>\n",
       "      <td>0</td>\n",
       "      <td>0</td>\n",
       "      <td>0</td>\n",
       "      <td>0</td>\n",
       "      <td>0</td>\n",
       "      <td>1</td>\n",
       "      <td>0</td>\n",
       "      <td>0</td>\n",
       "      <td>0</td>\n",
       "      <td>1</td>\n",
       "    </tr>\n",
       "  </tbody>\n",
       "</table>\n",
       "</div>"
      ],
      "text/plain": [
       "        Cough  Fever  Sore_throat  Shortness_of_breath  Headache  Corona  \\\n",
       "131586      1      1            0                    0         0       0   \n",
       "118892      0      0            0                    0         0       1   \n",
       "101990      0      0            0                    0         0       0   \n",
       "\n",
       "        Age_60_above  Sex  known_contact_Abroad  \\\n",
       "131586             1    1                     1   \n",
       "118892             0    1                     1   \n",
       "101990             1    0                     0   \n",
       "\n",
       "        known_contact_Contact with confirmed  known_contact_Other  \n",
       "131586                                     0                    0  \n",
       "118892                                     0                    0  \n",
       "101990                                     0                    1  "
      ]
     },
     "execution_count": 367,
     "metadata": {},
     "output_type": "execute_result"
    }
   ],
   "source": [
    "val_df.head(3)"
   ]
  },
  {
   "cell_type": "code",
   "execution_count": 368,
   "id": "6d628353",
   "metadata": {},
   "outputs": [
    {
     "data": {
      "text/html": [
       "<div>\n",
       "<style scoped>\n",
       "    .dataframe tbody tr th:only-of-type {\n",
       "        vertical-align: middle;\n",
       "    }\n",
       "\n",
       "    .dataframe tbody tr th {\n",
       "        vertical-align: top;\n",
       "    }\n",
       "\n",
       "    .dataframe thead th {\n",
       "        text-align: right;\n",
       "    }\n",
       "</style>\n",
       "<table border=\"1\" class=\"dataframe\">\n",
       "  <thead>\n",
       "    <tr style=\"text-align: right;\">\n",
       "      <th></th>\n",
       "      <th>Cough</th>\n",
       "      <th>Fever</th>\n",
       "      <th>Sore_throat</th>\n",
       "      <th>Shortness_of_breath</th>\n",
       "      <th>Headache</th>\n",
       "      <th>Corona</th>\n",
       "      <th>Age_60_above</th>\n",
       "      <th>Sex</th>\n",
       "      <th>known_contact_Abroad</th>\n",
       "      <th>known_contact_Contact with confirmed</th>\n",
       "      <th>known_contact_Other</th>\n",
       "    </tr>\n",
       "  </thead>\n",
       "  <tbody>\n",
       "    <tr>\n",
       "      <th>13727</th>\n",
       "      <td>1</td>\n",
       "      <td>0</td>\n",
       "      <td>0</td>\n",
       "      <td>0</td>\n",
       "      <td>0</td>\n",
       "      <td>0</td>\n",
       "      <td>0</td>\n",
       "      <td>1</td>\n",
       "      <td>1</td>\n",
       "      <td>0</td>\n",
       "      <td>0</td>\n",
       "    </tr>\n",
       "    <tr>\n",
       "      <th>13728</th>\n",
       "      <td>1</td>\n",
       "      <td>0</td>\n",
       "      <td>0</td>\n",
       "      <td>0</td>\n",
       "      <td>0</td>\n",
       "      <td>0</td>\n",
       "      <td>0</td>\n",
       "      <td>0</td>\n",
       "      <td>1</td>\n",
       "      <td>0</td>\n",
       "      <td>0</td>\n",
       "    </tr>\n",
       "    <tr>\n",
       "      <th>13730</th>\n",
       "      <td>1</td>\n",
       "      <td>1</td>\n",
       "      <td>0</td>\n",
       "      <td>0</td>\n",
       "      <td>0</td>\n",
       "      <td>1</td>\n",
       "      <td>1</td>\n",
       "      <td>0</td>\n",
       "      <td>0</td>\n",
       "      <td>0</td>\n",
       "      <td>1</td>\n",
       "    </tr>\n",
       "  </tbody>\n",
       "</table>\n",
       "</div>"
      ],
      "text/plain": [
       "       Cough  Fever  Sore_throat  Shortness_of_breath  Headache  Corona  \\\n",
       "13727      1      0            0                    0         0       0   \n",
       "13728      1      0            0                    0         0       0   \n",
       "13730      1      1            0                    0         0       1   \n",
       "\n",
       "       Age_60_above  Sex  known_contact_Abroad  \\\n",
       "13727             0    1                     1   \n",
       "13728             0    0                     1   \n",
       "13730             1    0                     0   \n",
       "\n",
       "       known_contact_Contact with confirmed  known_contact_Other  \n",
       "13727                                     0                    0  \n",
       "13728                                     0                    0  \n",
       "13730                                     0                    1  "
      ]
     },
     "execution_count": 368,
     "metadata": {},
     "output_type": "execute_result"
    }
   ],
   "source": [
    "test_df.head(3)"
   ]
  },
  {
   "cell_type": "code",
   "execution_count": 369,
   "id": "3f74f5bf",
   "metadata": {},
   "outputs": [],
   "source": [
    "# Independent variables\n",
    "X = train_df.drop([\"Corona\"], axis=1)\n",
    "\n",
    "# Dependent variable\n",
    "y = train_df.Corona"
   ]
  },
  {
   "cell_type": "markdown",
   "id": "d037724c",
   "metadata": {},
   "source": [
    "### Feature selection"
   ]
  },
  {
   "cell_type": "code",
   "execution_count": 370,
   "id": "a6def6f8",
   "metadata": {},
   "outputs": [],
   "source": [
    "# importing necessary liabraries\n",
    "import pandas as pd\n",
    "import numpy as np\n",
    "from sklearn.feature_selection import SelectKBest, chi2, mutual_info_classif\n",
    "from sklearn.feature_selection import RFE\n",
    "from sklearn.linear_model import LogisticRegression\n",
    "from sklearn.ensemble import RandomForestClassifier"
   ]
  },
  {
   "cell_type": "code",
   "execution_count": 371,
   "id": "6deb763e",
   "metadata": {},
   "outputs": [],
   "source": [
    "# Technique 1: Random Forest\n",
    "# Create a random forest classifier\n",
    "model = RandomForestClassifier(n_estimators=100)\n",
    "# Fit the model and get the feature importance scores\n",
    "model.fit(X, y)\n",
    "feature_importance = model.feature_importances_\n",
    "# Select the top 5 features based on their importance scores\n",
    "selected_features_rf = X.columns[feature_importance.argsort()[-5:]]"
   ]
  },
  {
   "cell_type": "code",
   "execution_count": 372,
   "id": "38f81e60",
   "metadata": {},
   "outputs": [
    {
     "name": "stdout",
     "output_type": "stream",
     "text": [
      "Selected features using Random Forest: Index(['Fever', 'known_contact_Other', 'Sore_throat', 'Headache',\n",
      "       'known_contact_Contact with confirmed'],\n",
      "      dtype='object')\n"
     ]
    }
   ],
   "source": [
    "print(\"Selected features using Random Forest:\", selected_features_rf)"
   ]
  },
  {
   "cell_type": "code",
   "execution_count": 373,
   "id": "3863db2d",
   "metadata": {},
   "outputs": [],
   "source": [
    "# Technique 2: Recursive Feature Elimination (RFE)\n",
    "# Create a logistic regression model\n",
    "model = LogisticRegression()\n",
    "# Select the top 5 features using RFE\n",
    "rfe = RFE(model, n_features_to_select=5)\n",
    "X_rfe = rfe.fit_transform(X, y)\n",
    "\n",
    "# Get the names of the selected features\n",
    "selected_features_rfe = X.columns[rfe.get_support()]"
   ]
  },
  {
   "cell_type": "code",
   "execution_count": 374,
   "id": "c7fe7c2c",
   "metadata": {},
   "outputs": [
    {
     "name": "stdout",
     "output_type": "stream",
     "text": [
      "Selected features using RFE: Index(['Fever', 'Sore_throat', 'Shortness_of_breath', 'Headache',\n",
      "       'known_contact_Contact with confirmed'],\n",
      "      dtype='object')\n"
     ]
    }
   ],
   "source": [
    "print(\"Selected features using RFE:\", selected_features_rfe)"
   ]
  },
  {
   "cell_type": "code",
   "execution_count": 375,
   "id": "179d4482",
   "metadata": {},
   "outputs": [],
   "source": [
    "# Technique 3: Mutual information\n",
    "# Select the top 5 features using mutual information\n",
    "kbest = SelectKBest(mutual_info_classif, k=5)\n",
    "X_mi = kbest.fit_transform(X, y)\n",
    "\n",
    "# Get the names of the selected features\n",
    "selected_features_mi = X.columns[kbest.get_support()]"
   ]
  },
  {
   "cell_type": "code",
   "execution_count": 376,
   "id": "a47309ac",
   "metadata": {},
   "outputs": [
    {
     "name": "stdout",
     "output_type": "stream",
     "text": [
      "Selected features using mutual information: Index(['Fever', 'Sore_throat', 'Headache',\n",
      "       'known_contact_Contact with confirmed', 'known_contact_Other'],\n",
      "      dtype='object')\n"
     ]
    }
   ],
   "source": [
    "print(\"Selected features using mutual information:\", selected_features_mi)"
   ]
  },
  {
   "cell_type": "code",
   "execution_count": 377,
   "id": "44069ac9",
   "metadata": {},
   "outputs": [],
   "source": [
    "from sklearn.feature_selection import SelectKBest\n",
    "from sklearn.feature_selection import f_classif\n",
    "\n",
    "\n",
    "\n",
    "# instantiate the SelectKBest class\n",
    "k_best = SelectKBest(score_func=f_classif, k=5)\n",
    "\n",
    "# fit the feature selector to the data\n",
    "k_best.fit(X, y)\n",
    "\n",
    "# get the indices of the top k features\n",
    "top_k_indices = k_best.get_support(indices=True)\n",
    "\n",
    "# get the feature names\n",
    "top_k_features = [X.columns[i] for i in top_k_indices]"
   ]
  },
  {
   "cell_type": "code",
   "execution_count": 378,
   "id": "64a8e293",
   "metadata": {},
   "outputs": [
    {
     "data": {
      "text/plain": [
       "['Fever',\n",
       " 'Sore_throat',\n",
       " 'Headache',\n",
       " 'known_contact_Contact with confirmed',\n",
       " 'known_contact_Other']"
      ]
     },
     "execution_count": 378,
     "metadata": {},
     "output_type": "execute_result"
    }
   ],
   "source": [
    "top_k_features"
   ]
  },
  {
   "cell_type": "code",
   "execution_count": 195,
   "id": "218456f8",
   "metadata": {},
   "outputs": [],
   "source": [
    "# Technique 1: Random Forest\n",
    "predictors = ['known_contact_Other', 'known_contact_Abroad', 'Sore_throat',\n",
    "       'Headache', 'known_contact_Contact with confirmed']\n",
    "target = 'Corona'"
   ]
  },
  {
   "cell_type": "code",
   "execution_count": 381,
   "id": "96f27aff",
   "metadata": {},
   "outputs": [],
   "source": [
    "# Technique 2: Recursive Feature Elimination (RFE)\n",
    "predictors = ['Fever', 'Sore_throat', 'Shortness_of_breath', 'Headache',\n",
    "       'known_contact_Contact with confirmed']\n",
    "target = 'Corona'"
   ]
  },
  {
   "cell_type": "code",
   "execution_count": 243,
   "id": "956291bb",
   "metadata": {},
   "outputs": [],
   "source": [
    "# Technique 3: Mutual information\n",
    "predictors = ['Fever', 'Sore_throat', 'Headache',\n",
    "       'known_contact_Contact with confirmed', 'known_contact_Other']\n",
    "target = 'Corona'"
   ]
  },
  {
   "cell_type": "code",
   "execution_count": 263,
   "id": "fd12451a",
   "metadata": {},
   "outputs": [],
   "source": [
    "# k_best\n",
    "predictors = ['Fever',\n",
    " 'Sore_throat',\n",
    " 'Headache',\n",
    " 'known_contact_Contact with confirmed',\n",
    " 'known_contact_Other']\n",
    "target = 'Corona'"
   ]
  },
  {
   "cell_type": "code",
   "execution_count": 382,
   "id": "cf4b345a",
   "metadata": {},
   "outputs": [],
   "source": [
    "# create X and y arrays for training, validation, and testing\n",
    "X_train = train_df[predictors].values\n",
    "y_train = train_df[target].values\n",
    "X_val = val_df[predictors].values\n",
    "y_val = val_df[target].values\n",
    "X_test = test_df[predictors].values\n",
    "y_test = test_df[target].values"
   ]
  },
  {
   "cell_type": "markdown",
   "id": "3cbe3f0c",
   "metadata": {},
   "source": [
    "### Building and training a machine learning model"
   ]
  },
  {
   "cell_type": "markdown",
   "id": "07366383",
   "metadata": {},
   "source": [
    "### Random Forest"
   ]
  },
  {
   "cell_type": "code",
   "execution_count": 383,
   "id": "1dfa8543",
   "metadata": {},
   "outputs": [
    {
     "data": {
      "text/html": [
       "<style>#sk-container-id-47 {color: black;background-color: white;}#sk-container-id-47 pre{padding: 0;}#sk-container-id-47 div.sk-toggleable {background-color: white;}#sk-container-id-47 label.sk-toggleable__label {cursor: pointer;display: block;width: 100%;margin-bottom: 0;padding: 0.3em;box-sizing: border-box;text-align: center;}#sk-container-id-47 label.sk-toggleable__label-arrow:before {content: \"▸\";float: left;margin-right: 0.25em;color: #696969;}#sk-container-id-47 label.sk-toggleable__label-arrow:hover:before {color: black;}#sk-container-id-47 div.sk-estimator:hover label.sk-toggleable__label-arrow:before {color: black;}#sk-container-id-47 div.sk-toggleable__content {max-height: 0;max-width: 0;overflow: hidden;text-align: left;background-color: #f0f8ff;}#sk-container-id-47 div.sk-toggleable__content pre {margin: 0.2em;color: black;border-radius: 0.25em;background-color: #f0f8ff;}#sk-container-id-47 input.sk-toggleable__control:checked~div.sk-toggleable__content {max-height: 200px;max-width: 100%;overflow: auto;}#sk-container-id-47 input.sk-toggleable__control:checked~label.sk-toggleable__label-arrow:before {content: \"▾\";}#sk-container-id-47 div.sk-estimator input.sk-toggleable__control:checked~label.sk-toggleable__label {background-color: #d4ebff;}#sk-container-id-47 div.sk-label input.sk-toggleable__control:checked~label.sk-toggleable__label {background-color: #d4ebff;}#sk-container-id-47 input.sk-hidden--visually {border: 0;clip: rect(1px 1px 1px 1px);clip: rect(1px, 1px, 1px, 1px);height: 1px;margin: -1px;overflow: hidden;padding: 0;position: absolute;width: 1px;}#sk-container-id-47 div.sk-estimator {font-family: monospace;background-color: #f0f8ff;border: 1px dotted black;border-radius: 0.25em;box-sizing: border-box;margin-bottom: 0.5em;}#sk-container-id-47 div.sk-estimator:hover {background-color: #d4ebff;}#sk-container-id-47 div.sk-parallel-item::after {content: \"\";width: 100%;border-bottom: 1px solid gray;flex-grow: 1;}#sk-container-id-47 div.sk-label:hover label.sk-toggleable__label {background-color: #d4ebff;}#sk-container-id-47 div.sk-serial::before {content: \"\";position: absolute;border-left: 1px solid gray;box-sizing: border-box;top: 0;bottom: 0;left: 50%;z-index: 0;}#sk-container-id-47 div.sk-serial {display: flex;flex-direction: column;align-items: center;background-color: white;padding-right: 0.2em;padding-left: 0.2em;position: relative;}#sk-container-id-47 div.sk-item {position: relative;z-index: 1;}#sk-container-id-47 div.sk-parallel {display: flex;align-items: stretch;justify-content: center;background-color: white;position: relative;}#sk-container-id-47 div.sk-item::before, #sk-container-id-47 div.sk-parallel-item::before {content: \"\";position: absolute;border-left: 1px solid gray;box-sizing: border-box;top: 0;bottom: 0;left: 50%;z-index: -1;}#sk-container-id-47 div.sk-parallel-item {display: flex;flex-direction: column;z-index: 1;position: relative;background-color: white;}#sk-container-id-47 div.sk-parallel-item:first-child::after {align-self: flex-end;width: 50%;}#sk-container-id-47 div.sk-parallel-item:last-child::after {align-self: flex-start;width: 50%;}#sk-container-id-47 div.sk-parallel-item:only-child::after {width: 0;}#sk-container-id-47 div.sk-dashed-wrapped {border: 1px dashed gray;margin: 0 0.4em 0.5em 0.4em;box-sizing: border-box;padding-bottom: 0.4em;background-color: white;}#sk-container-id-47 div.sk-label label {font-family: monospace;font-weight: bold;display: inline-block;line-height: 1.2em;}#sk-container-id-47 div.sk-label-container {text-align: center;}#sk-container-id-47 div.sk-container {/* jupyter's `normalize.less` sets `[hidden] { display: none; }` but bootstrap.min.css set `[hidden] { display: none !important; }` so we also need the `!important` here to be able to override the default hidden behavior on the sphinx rendered scikit-learn.org. See: https://github.com/scikit-learn/scikit-learn/issues/21755 */display: inline-block !important;position: relative;}#sk-container-id-47 div.sk-text-repr-fallback {display: none;}</style><div id=\"sk-container-id-47\" class=\"sk-top-container\"><div class=\"sk-text-repr-fallback\"><pre>RandomForestClassifier(random_state=42)</pre><b>In a Jupyter environment, please rerun this cell to show the HTML representation or trust the notebook. <br />On GitHub, the HTML representation is unable to render, please try loading this page with nbviewer.org.</b></div><div class=\"sk-container\" hidden><div class=\"sk-item\"><div class=\"sk-estimator sk-toggleable\"><input class=\"sk-toggleable__control sk-hidden--visually\" id=\"sk-estimator-id-51\" type=\"checkbox\" checked><label for=\"sk-estimator-id-51\" class=\"sk-toggleable__label sk-toggleable__label-arrow\">RandomForestClassifier</label><div class=\"sk-toggleable__content\"><pre>RandomForestClassifier(random_state=42)</pre></div></div></div></div></div>"
      ],
      "text/plain": [
       "RandomForestClassifier(random_state=42)"
      ]
     },
     "execution_count": 383,
     "metadata": {},
     "output_type": "execute_result"
    }
   ],
   "source": [
    "import pandas as pd\n",
    "from sklearn.model_selection import train_test_split, GridSearchCV\n",
    "from sklearn.ensemble import RandomForestClassifier\n",
    "from sklearn.metrics import accuracy_score\n",
    "rfc = RandomForestClassifier(n_estimators=100, random_state=42)\n",
    "rfc.fit(X_train, y_train)"
   ]
  },
  {
   "cell_type": "code",
   "execution_count": 388,
   "id": "2a0504e9",
   "metadata": {},
   "outputs": [],
   "source": [
    "from sklearn.metrics import accuracy_score, confusion_matrix, classification_report\n",
    "\n",
    "# Evaluate the model on the validation set\n",
    "RFy_pred_val = rfc.predict(X_val)\n",
    "RFval_acc = accuracy_score(y_val, RFy_pred_val)\n",
    "RFval_cm = confusion_matrix(y_val, RFy_pred_val)\n",
    "RFval_cr = classification_report(y_val, RFy_pred_val)"
   ]
  },
  {
   "cell_type": "code",
   "execution_count": 389,
   "id": "4369ebe4",
   "metadata": {},
   "outputs": [
    {
     "name": "stdout",
     "output_type": "stream",
     "text": [
      "Validation Accuracy: 0.9555516098484849\n",
      "Validation Confusion Matrix:\n",
      " [[15451   326]\n",
      " [  425   694]]\n",
      "Validation Classification Report:\n",
      "               precision    recall  f1-score   support\n",
      "\n",
      "           0       0.97      0.98      0.98     15777\n",
      "           1       0.68      0.62      0.65      1119\n",
      "\n",
      "    accuracy                           0.96     16896\n",
      "   macro avg       0.83      0.80      0.81     16896\n",
      "weighted avg       0.95      0.96      0.95     16896\n",
      "\n"
     ]
    }
   ],
   "source": [
    "# Print the validation set results\n",
    "print(\"Validation Accuracy:\", RFval_acc)\n",
    "print(\"Validation Confusion Matrix:\\n\", RFval_cm)\n",
    "print(\"Validation Classification Report:\\n\", RFval_cr)"
   ]
  },
  {
   "cell_type": "markdown",
   "id": "81047e4c",
   "metadata": {},
   "source": [
    "### SVM"
   ]
  },
  {
   "cell_type": "code",
   "execution_count": 390,
   "id": "9ddc9725",
   "metadata": {},
   "outputs": [],
   "source": [
    "from sklearn.svm import SVC\n",
    "from sklearn.metrics import accuracy_score, confusion_matrix, classification_report"
   ]
  },
  {
   "cell_type": "code",
   "execution_count": 391,
   "id": "9ba306cc",
   "metadata": {},
   "outputs": [
    {
     "data": {
      "text/html": [
       "<style>#sk-container-id-48 {color: black;background-color: white;}#sk-container-id-48 pre{padding: 0;}#sk-container-id-48 div.sk-toggleable {background-color: white;}#sk-container-id-48 label.sk-toggleable__label {cursor: pointer;display: block;width: 100%;margin-bottom: 0;padding: 0.3em;box-sizing: border-box;text-align: center;}#sk-container-id-48 label.sk-toggleable__label-arrow:before {content: \"▸\";float: left;margin-right: 0.25em;color: #696969;}#sk-container-id-48 label.sk-toggleable__label-arrow:hover:before {color: black;}#sk-container-id-48 div.sk-estimator:hover label.sk-toggleable__label-arrow:before {color: black;}#sk-container-id-48 div.sk-toggleable__content {max-height: 0;max-width: 0;overflow: hidden;text-align: left;background-color: #f0f8ff;}#sk-container-id-48 div.sk-toggleable__content pre {margin: 0.2em;color: black;border-radius: 0.25em;background-color: #f0f8ff;}#sk-container-id-48 input.sk-toggleable__control:checked~div.sk-toggleable__content {max-height: 200px;max-width: 100%;overflow: auto;}#sk-container-id-48 input.sk-toggleable__control:checked~label.sk-toggleable__label-arrow:before {content: \"▾\";}#sk-container-id-48 div.sk-estimator input.sk-toggleable__control:checked~label.sk-toggleable__label {background-color: #d4ebff;}#sk-container-id-48 div.sk-label input.sk-toggleable__control:checked~label.sk-toggleable__label {background-color: #d4ebff;}#sk-container-id-48 input.sk-hidden--visually {border: 0;clip: rect(1px 1px 1px 1px);clip: rect(1px, 1px, 1px, 1px);height: 1px;margin: -1px;overflow: hidden;padding: 0;position: absolute;width: 1px;}#sk-container-id-48 div.sk-estimator {font-family: monospace;background-color: #f0f8ff;border: 1px dotted black;border-radius: 0.25em;box-sizing: border-box;margin-bottom: 0.5em;}#sk-container-id-48 div.sk-estimator:hover {background-color: #d4ebff;}#sk-container-id-48 div.sk-parallel-item::after {content: \"\";width: 100%;border-bottom: 1px solid gray;flex-grow: 1;}#sk-container-id-48 div.sk-label:hover label.sk-toggleable__label {background-color: #d4ebff;}#sk-container-id-48 div.sk-serial::before {content: \"\";position: absolute;border-left: 1px solid gray;box-sizing: border-box;top: 0;bottom: 0;left: 50%;z-index: 0;}#sk-container-id-48 div.sk-serial {display: flex;flex-direction: column;align-items: center;background-color: white;padding-right: 0.2em;padding-left: 0.2em;position: relative;}#sk-container-id-48 div.sk-item {position: relative;z-index: 1;}#sk-container-id-48 div.sk-parallel {display: flex;align-items: stretch;justify-content: center;background-color: white;position: relative;}#sk-container-id-48 div.sk-item::before, #sk-container-id-48 div.sk-parallel-item::before {content: \"\";position: absolute;border-left: 1px solid gray;box-sizing: border-box;top: 0;bottom: 0;left: 50%;z-index: -1;}#sk-container-id-48 div.sk-parallel-item {display: flex;flex-direction: column;z-index: 1;position: relative;background-color: white;}#sk-container-id-48 div.sk-parallel-item:first-child::after {align-self: flex-end;width: 50%;}#sk-container-id-48 div.sk-parallel-item:last-child::after {align-self: flex-start;width: 50%;}#sk-container-id-48 div.sk-parallel-item:only-child::after {width: 0;}#sk-container-id-48 div.sk-dashed-wrapped {border: 1px dashed gray;margin: 0 0.4em 0.5em 0.4em;box-sizing: border-box;padding-bottom: 0.4em;background-color: white;}#sk-container-id-48 div.sk-label label {font-family: monospace;font-weight: bold;display: inline-block;line-height: 1.2em;}#sk-container-id-48 div.sk-label-container {text-align: center;}#sk-container-id-48 div.sk-container {/* jupyter's `normalize.less` sets `[hidden] { display: none; }` but bootstrap.min.css set `[hidden] { display: none !important; }` so we also need the `!important` here to be able to override the default hidden behavior on the sphinx rendered scikit-learn.org. See: https://github.com/scikit-learn/scikit-learn/issues/21755 */display: inline-block !important;position: relative;}#sk-container-id-48 div.sk-text-repr-fallback {display: none;}</style><div id=\"sk-container-id-48\" class=\"sk-top-container\"><div class=\"sk-text-repr-fallback\"><pre>SVC(C=1, kernel=&#x27;linear&#x27;, random_state=42)</pre><b>In a Jupyter environment, please rerun this cell to show the HTML representation or trust the notebook. <br />On GitHub, the HTML representation is unable to render, please try loading this page with nbviewer.org.</b></div><div class=\"sk-container\" hidden><div class=\"sk-item\"><div class=\"sk-estimator sk-toggleable\"><input class=\"sk-toggleable__control sk-hidden--visually\" id=\"sk-estimator-id-52\" type=\"checkbox\" checked><label for=\"sk-estimator-id-52\" class=\"sk-toggleable__label sk-toggleable__label-arrow\">SVC</label><div class=\"sk-toggleable__content\"><pre>SVC(C=1, kernel=&#x27;linear&#x27;, random_state=42)</pre></div></div></div></div></div>"
      ],
      "text/plain": [
       "SVC(C=1, kernel='linear', random_state=42)"
      ]
     },
     "execution_count": 391,
     "metadata": {},
     "output_type": "execute_result"
    }
   ],
   "source": [
    "# Train an SVM model\n",
    "svm = SVC(kernel='linear', C=1, random_state=42)\n",
    "svm.fit(X_train, y_train)"
   ]
  },
  {
   "cell_type": "code",
   "execution_count": 392,
   "id": "2a1e8aa1",
   "metadata": {},
   "outputs": [],
   "source": [
    "# Evaluate the model on the validation set\n",
    "SVMy_pred_val = svm.predict(X_val)\n",
    "SVMval_acc = accuracy_score(y_val, SVMy_pred_val)\n",
    "SVMval_cm = confusion_matrix(y_val, SVMy_pred_val)\n",
    "SVMval_cr = classification_report(y_val, SVMy_pred_val)"
   ]
  },
  {
   "cell_type": "code",
   "execution_count": 291,
   "id": "455d9fe5",
   "metadata": {},
   "outputs": [
    {
     "name": "stdout",
     "output_type": "stream",
     "text": [
      "Validation Accuracy: 0.9555516098484849\n",
      "Validation Confusion Matrix:\n",
      " [[15451   326]\n",
      " [  425   694]]\n",
      "Validation Classification Report:\n",
      "               precision    recall  f1-score   support\n",
      "\n",
      "           0       0.97      0.98      0.98     15777\n",
      "           1       0.68      0.62      0.65      1119\n",
      "\n",
      "    accuracy                           0.96     16896\n",
      "   macro avg       0.83      0.80      0.81     16896\n",
      "weighted avg       0.95      0.96      0.95     16896\n",
      "\n"
     ]
    }
   ],
   "source": [
    "# Print the validation set results\n",
    "print(\"Validation Accuracy:\", SVMval_acc)\n",
    "print(\"Validation Confusion Matrix:\\n\", SVMval_cm)\n",
    "print(\"Validation Classification Report:\\n\", SVMval_cr)"
   ]
  },
  {
   "cell_type": "code",
   "execution_count": 393,
   "id": "db223462",
   "metadata": {},
   "outputs": [],
   "source": [
    "# Evaluate the model on the test set\n",
    "SVMy_pred_test = svm.predict(X_test)\n",
    "SVMtest_acc = accuracy_score(y_test, SVMy_pred_test)\n",
    "SVMtest_cm = confusion_matrix(y_test, SVMy_pred_test)\n",
    "SVMtest_cr = classification_report(y_test, SVMy_pred_test)"
   ]
  },
  {
   "cell_type": "code",
   "execution_count": 394,
   "id": "b41ed8ae",
   "metadata": {},
   "outputs": [
    {
     "name": "stdout",
     "output_type": "stream",
     "text": [
      "Test Accuracy: 0.956112247655074\n",
      "Test Confusion Matrix:\n",
      " [[46275   779]\n",
      " [ 1495  3265]]\n",
      "Test Classification Report:\n",
      "               precision    recall  f1-score   support\n",
      "\n",
      "           0       0.97      0.98      0.98     47054\n",
      "           1       0.81      0.69      0.74      4760\n",
      "\n",
      "    accuracy                           0.96     51814\n",
      "   macro avg       0.89      0.83      0.86     51814\n",
      "weighted avg       0.95      0.96      0.95     51814\n",
      "\n"
     ]
    }
   ],
   "source": [
    "# Print the test set results\n",
    "print(\"Test Accuracy:\", SVMtest_acc)\n",
    "print(\"Test Confusion Matrix:\\n\", SVMtest_cm)\n",
    "print(\"Test Classification Report:\\n\", SVMtest_cr)"
   ]
  },
  {
   "cell_type": "markdown",
   "id": "d46e3a63",
   "metadata": {},
   "source": [
    "### KNN"
   ]
  },
  {
   "cell_type": "code",
   "execution_count": 395,
   "id": "c8744b15",
   "metadata": {},
   "outputs": [],
   "source": [
    "from sklearn.neighbors import KNeighborsClassifier\n",
    "from sklearn.metrics import accuracy_score, confusion_matrix, classification_report"
   ]
  },
  {
   "cell_type": "code",
   "execution_count": 396,
   "id": "f9ac156f",
   "metadata": {},
   "outputs": [
    {
     "data": {
      "text/html": [
       "<style>#sk-container-id-49 {color: black;background-color: white;}#sk-container-id-49 pre{padding: 0;}#sk-container-id-49 div.sk-toggleable {background-color: white;}#sk-container-id-49 label.sk-toggleable__label {cursor: pointer;display: block;width: 100%;margin-bottom: 0;padding: 0.3em;box-sizing: border-box;text-align: center;}#sk-container-id-49 label.sk-toggleable__label-arrow:before {content: \"▸\";float: left;margin-right: 0.25em;color: #696969;}#sk-container-id-49 label.sk-toggleable__label-arrow:hover:before {color: black;}#sk-container-id-49 div.sk-estimator:hover label.sk-toggleable__label-arrow:before {color: black;}#sk-container-id-49 div.sk-toggleable__content {max-height: 0;max-width: 0;overflow: hidden;text-align: left;background-color: #f0f8ff;}#sk-container-id-49 div.sk-toggleable__content pre {margin: 0.2em;color: black;border-radius: 0.25em;background-color: #f0f8ff;}#sk-container-id-49 input.sk-toggleable__control:checked~div.sk-toggleable__content {max-height: 200px;max-width: 100%;overflow: auto;}#sk-container-id-49 input.sk-toggleable__control:checked~label.sk-toggleable__label-arrow:before {content: \"▾\";}#sk-container-id-49 div.sk-estimator input.sk-toggleable__control:checked~label.sk-toggleable__label {background-color: #d4ebff;}#sk-container-id-49 div.sk-label input.sk-toggleable__control:checked~label.sk-toggleable__label {background-color: #d4ebff;}#sk-container-id-49 input.sk-hidden--visually {border: 0;clip: rect(1px 1px 1px 1px);clip: rect(1px, 1px, 1px, 1px);height: 1px;margin: -1px;overflow: hidden;padding: 0;position: absolute;width: 1px;}#sk-container-id-49 div.sk-estimator {font-family: monospace;background-color: #f0f8ff;border: 1px dotted black;border-radius: 0.25em;box-sizing: border-box;margin-bottom: 0.5em;}#sk-container-id-49 div.sk-estimator:hover {background-color: #d4ebff;}#sk-container-id-49 div.sk-parallel-item::after {content: \"\";width: 100%;border-bottom: 1px solid gray;flex-grow: 1;}#sk-container-id-49 div.sk-label:hover label.sk-toggleable__label {background-color: #d4ebff;}#sk-container-id-49 div.sk-serial::before {content: \"\";position: absolute;border-left: 1px solid gray;box-sizing: border-box;top: 0;bottom: 0;left: 50%;z-index: 0;}#sk-container-id-49 div.sk-serial {display: flex;flex-direction: column;align-items: center;background-color: white;padding-right: 0.2em;padding-left: 0.2em;position: relative;}#sk-container-id-49 div.sk-item {position: relative;z-index: 1;}#sk-container-id-49 div.sk-parallel {display: flex;align-items: stretch;justify-content: center;background-color: white;position: relative;}#sk-container-id-49 div.sk-item::before, #sk-container-id-49 div.sk-parallel-item::before {content: \"\";position: absolute;border-left: 1px solid gray;box-sizing: border-box;top: 0;bottom: 0;left: 50%;z-index: -1;}#sk-container-id-49 div.sk-parallel-item {display: flex;flex-direction: column;z-index: 1;position: relative;background-color: white;}#sk-container-id-49 div.sk-parallel-item:first-child::after {align-self: flex-end;width: 50%;}#sk-container-id-49 div.sk-parallel-item:last-child::after {align-self: flex-start;width: 50%;}#sk-container-id-49 div.sk-parallel-item:only-child::after {width: 0;}#sk-container-id-49 div.sk-dashed-wrapped {border: 1px dashed gray;margin: 0 0.4em 0.5em 0.4em;box-sizing: border-box;padding-bottom: 0.4em;background-color: white;}#sk-container-id-49 div.sk-label label {font-family: monospace;font-weight: bold;display: inline-block;line-height: 1.2em;}#sk-container-id-49 div.sk-label-container {text-align: center;}#sk-container-id-49 div.sk-container {/* jupyter's `normalize.less` sets `[hidden] { display: none; }` but bootstrap.min.css set `[hidden] { display: none !important; }` so we also need the `!important` here to be able to override the default hidden behavior on the sphinx rendered scikit-learn.org. See: https://github.com/scikit-learn/scikit-learn/issues/21755 */display: inline-block !important;position: relative;}#sk-container-id-49 div.sk-text-repr-fallback {display: none;}</style><div id=\"sk-container-id-49\" class=\"sk-top-container\"><div class=\"sk-text-repr-fallback\"><pre>KNeighborsClassifier()</pre><b>In a Jupyter environment, please rerun this cell to show the HTML representation or trust the notebook. <br />On GitHub, the HTML representation is unable to render, please try loading this page with nbviewer.org.</b></div><div class=\"sk-container\" hidden><div class=\"sk-item\"><div class=\"sk-estimator sk-toggleable\"><input class=\"sk-toggleable__control sk-hidden--visually\" id=\"sk-estimator-id-53\" type=\"checkbox\" checked><label for=\"sk-estimator-id-53\" class=\"sk-toggleable__label sk-toggleable__label-arrow\">KNeighborsClassifier</label><div class=\"sk-toggleable__content\"><pre>KNeighborsClassifier()</pre></div></div></div></div></div>"
      ],
      "text/plain": [
       "KNeighborsClassifier()"
      ]
     },
     "execution_count": 396,
     "metadata": {},
     "output_type": "execute_result"
    }
   ],
   "source": [
    "# Train a KNN model\n",
    "knn = KNeighborsClassifier(n_neighbors=5)\n",
    "knn.fit(X_train, y_train)"
   ]
  },
  {
   "cell_type": "code",
   "execution_count": 397,
   "id": "e22c8654",
   "metadata": {},
   "outputs": [],
   "source": [
    "# Evaluate the model on the validation set\n",
    "KNNy_pred_val = knn.predict(X_val)\n",
    "KNNval_acc = accuracy_score(y_val, KNNy_pred_val)\n",
    "KNNval_cm = confusion_matrix(y_val, KNNy_pred_val)\n",
    "KNNval_cr = classification_report(y_val, KNNy_pred_val)"
   ]
  },
  {
   "cell_type": "code",
   "execution_count": 398,
   "id": "5941c720",
   "metadata": {},
   "outputs": [
    {
     "name": "stdout",
     "output_type": "stream",
     "text": [
      "Validation Accuracy: 0.9555516098484849\n",
      "Validation Confusion Matrix:\n",
      " [[15451   326]\n",
      " [  425   694]]\n",
      "Validation Classification Report:\n",
      "               precision    recall  f1-score   support\n",
      "\n",
      "           0       0.97      0.98      0.98     15777\n",
      "           1       0.68      0.62      0.65      1119\n",
      "\n",
      "    accuracy                           0.96     16896\n",
      "   macro avg       0.83      0.80      0.81     16896\n",
      "weighted avg       0.95      0.96      0.95     16896\n",
      "\n"
     ]
    }
   ],
   "source": [
    "# Print the validation set results\n",
    "print(\"Validation Accuracy:\", KNNval_acc)\n",
    "print(\"Validation Confusion Matrix:\\n\", KNNval_cm)\n",
    "print(\"Validation Classification Report:\\n\", KNNval_cr)"
   ]
  },
  {
   "cell_type": "markdown",
   "id": "e069495c",
   "metadata": {},
   "source": [
    "### Decision Tree"
   ]
  },
  {
   "cell_type": "code",
   "execution_count": 399,
   "id": "eb43f838",
   "metadata": {},
   "outputs": [],
   "source": [
    "from sklearn.tree import DecisionTreeClassifier\n",
    "from sklearn.metrics import accuracy_score, confusion_matrix, classification_report"
   ]
  },
  {
   "cell_type": "code",
   "execution_count": 400,
   "id": "6d39a7b1",
   "metadata": {},
   "outputs": [
    {
     "data": {
      "text/html": [
       "<style>#sk-container-id-50 {color: black;background-color: white;}#sk-container-id-50 pre{padding: 0;}#sk-container-id-50 div.sk-toggleable {background-color: white;}#sk-container-id-50 label.sk-toggleable__label {cursor: pointer;display: block;width: 100%;margin-bottom: 0;padding: 0.3em;box-sizing: border-box;text-align: center;}#sk-container-id-50 label.sk-toggleable__label-arrow:before {content: \"▸\";float: left;margin-right: 0.25em;color: #696969;}#sk-container-id-50 label.sk-toggleable__label-arrow:hover:before {color: black;}#sk-container-id-50 div.sk-estimator:hover label.sk-toggleable__label-arrow:before {color: black;}#sk-container-id-50 div.sk-toggleable__content {max-height: 0;max-width: 0;overflow: hidden;text-align: left;background-color: #f0f8ff;}#sk-container-id-50 div.sk-toggleable__content pre {margin: 0.2em;color: black;border-radius: 0.25em;background-color: #f0f8ff;}#sk-container-id-50 input.sk-toggleable__control:checked~div.sk-toggleable__content {max-height: 200px;max-width: 100%;overflow: auto;}#sk-container-id-50 input.sk-toggleable__control:checked~label.sk-toggleable__label-arrow:before {content: \"▾\";}#sk-container-id-50 div.sk-estimator input.sk-toggleable__control:checked~label.sk-toggleable__label {background-color: #d4ebff;}#sk-container-id-50 div.sk-label input.sk-toggleable__control:checked~label.sk-toggleable__label {background-color: #d4ebff;}#sk-container-id-50 input.sk-hidden--visually {border: 0;clip: rect(1px 1px 1px 1px);clip: rect(1px, 1px, 1px, 1px);height: 1px;margin: -1px;overflow: hidden;padding: 0;position: absolute;width: 1px;}#sk-container-id-50 div.sk-estimator {font-family: monospace;background-color: #f0f8ff;border: 1px dotted black;border-radius: 0.25em;box-sizing: border-box;margin-bottom: 0.5em;}#sk-container-id-50 div.sk-estimator:hover {background-color: #d4ebff;}#sk-container-id-50 div.sk-parallel-item::after {content: \"\";width: 100%;border-bottom: 1px solid gray;flex-grow: 1;}#sk-container-id-50 div.sk-label:hover label.sk-toggleable__label {background-color: #d4ebff;}#sk-container-id-50 div.sk-serial::before {content: \"\";position: absolute;border-left: 1px solid gray;box-sizing: border-box;top: 0;bottom: 0;left: 50%;z-index: 0;}#sk-container-id-50 div.sk-serial {display: flex;flex-direction: column;align-items: center;background-color: white;padding-right: 0.2em;padding-left: 0.2em;position: relative;}#sk-container-id-50 div.sk-item {position: relative;z-index: 1;}#sk-container-id-50 div.sk-parallel {display: flex;align-items: stretch;justify-content: center;background-color: white;position: relative;}#sk-container-id-50 div.sk-item::before, #sk-container-id-50 div.sk-parallel-item::before {content: \"\";position: absolute;border-left: 1px solid gray;box-sizing: border-box;top: 0;bottom: 0;left: 50%;z-index: -1;}#sk-container-id-50 div.sk-parallel-item {display: flex;flex-direction: column;z-index: 1;position: relative;background-color: white;}#sk-container-id-50 div.sk-parallel-item:first-child::after {align-self: flex-end;width: 50%;}#sk-container-id-50 div.sk-parallel-item:last-child::after {align-self: flex-start;width: 50%;}#sk-container-id-50 div.sk-parallel-item:only-child::after {width: 0;}#sk-container-id-50 div.sk-dashed-wrapped {border: 1px dashed gray;margin: 0 0.4em 0.5em 0.4em;box-sizing: border-box;padding-bottom: 0.4em;background-color: white;}#sk-container-id-50 div.sk-label label {font-family: monospace;font-weight: bold;display: inline-block;line-height: 1.2em;}#sk-container-id-50 div.sk-label-container {text-align: center;}#sk-container-id-50 div.sk-container {/* jupyter's `normalize.less` sets `[hidden] { display: none; }` but bootstrap.min.css set `[hidden] { display: none !important; }` so we also need the `!important` here to be able to override the default hidden behavior on the sphinx rendered scikit-learn.org. See: https://github.com/scikit-learn/scikit-learn/issues/21755 */display: inline-block !important;position: relative;}#sk-container-id-50 div.sk-text-repr-fallback {display: none;}</style><div id=\"sk-container-id-50\" class=\"sk-top-container\"><div class=\"sk-text-repr-fallback\"><pre>DecisionTreeClassifier(max_depth=5, random_state=42)</pre><b>In a Jupyter environment, please rerun this cell to show the HTML representation or trust the notebook. <br />On GitHub, the HTML representation is unable to render, please try loading this page with nbviewer.org.</b></div><div class=\"sk-container\" hidden><div class=\"sk-item\"><div class=\"sk-estimator sk-toggleable\"><input class=\"sk-toggleable__control sk-hidden--visually\" id=\"sk-estimator-id-54\" type=\"checkbox\" checked><label for=\"sk-estimator-id-54\" class=\"sk-toggleable__label sk-toggleable__label-arrow\">DecisionTreeClassifier</label><div class=\"sk-toggleable__content\"><pre>DecisionTreeClassifier(max_depth=5, random_state=42)</pre></div></div></div></div></div>"
      ],
      "text/plain": [
       "DecisionTreeClassifier(max_depth=5, random_state=42)"
      ]
     },
     "execution_count": 400,
     "metadata": {},
     "output_type": "execute_result"
    }
   ],
   "source": [
    "# Train a decision tree model\n",
    "dt = DecisionTreeClassifier(max_depth=5, random_state=42)\n",
    "dt.fit(X_train, y_train)"
   ]
  },
  {
   "cell_type": "code",
   "execution_count": 401,
   "id": "f674ec8a",
   "metadata": {},
   "outputs": [],
   "source": [
    "# Evaluate the model on the validation set\n",
    "DTy_pred_val = dt.predict(X_val)\n",
    "DTval_acc = accuracy_score(y_val, DTy_pred_val)\n",
    "DTval_cm = confusion_matrix(y_val, DTy_pred_val)\n",
    "DTval_cr = classification_report(y_val, DTy_pred_val)"
   ]
  },
  {
   "cell_type": "code",
   "execution_count": 402,
   "id": "366977f1",
   "metadata": {},
   "outputs": [
    {
     "name": "stdout",
     "output_type": "stream",
     "text": [
      "Validation Accuracy: 0.9555516098484849\n",
      "Validation Confusion Matrix:\n",
      " [[15451   326]\n",
      " [  425   694]]\n",
      "Validation Classification Report:\n",
      "               precision    recall  f1-score   support\n",
      "\n",
      "           0       0.97      0.98      0.98     15777\n",
      "           1       0.68      0.62      0.65      1119\n",
      "\n",
      "    accuracy                           0.96     16896\n",
      "   macro avg       0.83      0.80      0.81     16896\n",
      "weighted avg       0.95      0.96      0.95     16896\n",
      "\n"
     ]
    }
   ],
   "source": [
    "# Print the validation set results\n",
    "print(\"Validation Accuracy:\", DTval_acc)\n",
    "print(\"Validation Confusion Matrix:\\n\", DTval_cm)\n",
    "print(\"Validation Classification Report:\\n\", DTval_cr)"
   ]
  },
  {
   "cell_type": "markdown",
   "id": "1129b43c",
   "metadata": {},
   "source": [
    "### Logistic Regression"
   ]
  },
  {
   "cell_type": "code",
   "execution_count": 403,
   "id": "814d19e2",
   "metadata": {},
   "outputs": [
    {
     "data": {
      "text/html": [
       "<style>#sk-container-id-51 {color: black;background-color: white;}#sk-container-id-51 pre{padding: 0;}#sk-container-id-51 div.sk-toggleable {background-color: white;}#sk-container-id-51 label.sk-toggleable__label {cursor: pointer;display: block;width: 100%;margin-bottom: 0;padding: 0.3em;box-sizing: border-box;text-align: center;}#sk-container-id-51 label.sk-toggleable__label-arrow:before {content: \"▸\";float: left;margin-right: 0.25em;color: #696969;}#sk-container-id-51 label.sk-toggleable__label-arrow:hover:before {color: black;}#sk-container-id-51 div.sk-estimator:hover label.sk-toggleable__label-arrow:before {color: black;}#sk-container-id-51 div.sk-toggleable__content {max-height: 0;max-width: 0;overflow: hidden;text-align: left;background-color: #f0f8ff;}#sk-container-id-51 div.sk-toggleable__content pre {margin: 0.2em;color: black;border-radius: 0.25em;background-color: #f0f8ff;}#sk-container-id-51 input.sk-toggleable__control:checked~div.sk-toggleable__content {max-height: 200px;max-width: 100%;overflow: auto;}#sk-container-id-51 input.sk-toggleable__control:checked~label.sk-toggleable__label-arrow:before {content: \"▾\";}#sk-container-id-51 div.sk-estimator input.sk-toggleable__control:checked~label.sk-toggleable__label {background-color: #d4ebff;}#sk-container-id-51 div.sk-label input.sk-toggleable__control:checked~label.sk-toggleable__label {background-color: #d4ebff;}#sk-container-id-51 input.sk-hidden--visually {border: 0;clip: rect(1px 1px 1px 1px);clip: rect(1px, 1px, 1px, 1px);height: 1px;margin: -1px;overflow: hidden;padding: 0;position: absolute;width: 1px;}#sk-container-id-51 div.sk-estimator {font-family: monospace;background-color: #f0f8ff;border: 1px dotted black;border-radius: 0.25em;box-sizing: border-box;margin-bottom: 0.5em;}#sk-container-id-51 div.sk-estimator:hover {background-color: #d4ebff;}#sk-container-id-51 div.sk-parallel-item::after {content: \"\";width: 100%;border-bottom: 1px solid gray;flex-grow: 1;}#sk-container-id-51 div.sk-label:hover label.sk-toggleable__label {background-color: #d4ebff;}#sk-container-id-51 div.sk-serial::before {content: \"\";position: absolute;border-left: 1px solid gray;box-sizing: border-box;top: 0;bottom: 0;left: 50%;z-index: 0;}#sk-container-id-51 div.sk-serial {display: flex;flex-direction: column;align-items: center;background-color: white;padding-right: 0.2em;padding-left: 0.2em;position: relative;}#sk-container-id-51 div.sk-item {position: relative;z-index: 1;}#sk-container-id-51 div.sk-parallel {display: flex;align-items: stretch;justify-content: center;background-color: white;position: relative;}#sk-container-id-51 div.sk-item::before, #sk-container-id-51 div.sk-parallel-item::before {content: \"\";position: absolute;border-left: 1px solid gray;box-sizing: border-box;top: 0;bottom: 0;left: 50%;z-index: -1;}#sk-container-id-51 div.sk-parallel-item {display: flex;flex-direction: column;z-index: 1;position: relative;background-color: white;}#sk-container-id-51 div.sk-parallel-item:first-child::after {align-self: flex-end;width: 50%;}#sk-container-id-51 div.sk-parallel-item:last-child::after {align-self: flex-start;width: 50%;}#sk-container-id-51 div.sk-parallel-item:only-child::after {width: 0;}#sk-container-id-51 div.sk-dashed-wrapped {border: 1px dashed gray;margin: 0 0.4em 0.5em 0.4em;box-sizing: border-box;padding-bottom: 0.4em;background-color: white;}#sk-container-id-51 div.sk-label label {font-family: monospace;font-weight: bold;display: inline-block;line-height: 1.2em;}#sk-container-id-51 div.sk-label-container {text-align: center;}#sk-container-id-51 div.sk-container {/* jupyter's `normalize.less` sets `[hidden] { display: none; }` but bootstrap.min.css set `[hidden] { display: none !important; }` so we also need the `!important` here to be able to override the default hidden behavior on the sphinx rendered scikit-learn.org. See: https://github.com/scikit-learn/scikit-learn/issues/21755 */display: inline-block !important;position: relative;}#sk-container-id-51 div.sk-text-repr-fallback {display: none;}</style><div id=\"sk-container-id-51\" class=\"sk-top-container\"><div class=\"sk-text-repr-fallback\"><pre>LogisticRegression()</pre><b>In a Jupyter environment, please rerun this cell to show the HTML representation or trust the notebook. <br />On GitHub, the HTML representation is unable to render, please try loading this page with nbviewer.org.</b></div><div class=\"sk-container\" hidden><div class=\"sk-item\"><div class=\"sk-estimator sk-toggleable\"><input class=\"sk-toggleable__control sk-hidden--visually\" id=\"sk-estimator-id-55\" type=\"checkbox\" checked><label for=\"sk-estimator-id-55\" class=\"sk-toggleable__label sk-toggleable__label-arrow\">LogisticRegression</label><div class=\"sk-toggleable__content\"><pre>LogisticRegression()</pre></div></div></div></div></div>"
      ],
      "text/plain": [
       "LogisticRegression()"
      ]
     },
     "execution_count": 403,
     "metadata": {},
     "output_type": "execute_result"
    }
   ],
   "source": [
    "from sklearn.linear_model import LogisticRegression\n",
    "\n",
    "lg = LogisticRegression()\n",
    "lg.fit(X_train, y_train)"
   ]
  },
  {
   "cell_type": "code",
   "execution_count": 404,
   "id": "5d053fed",
   "metadata": {},
   "outputs": [],
   "source": [
    "# Evaluate the model on the validation set\n",
    "LGy_pred_val = lg.predict(X_val)\n",
    "LGval_acc = accuracy_score(y_val, LGy_pred_val)\n",
    "LGval_cm = confusion_matrix(y_val, LGy_pred_val)\n",
    "LGval_cr = classification_report(y_val, LGy_pred_val)"
   ]
  },
  {
   "cell_type": "code",
   "execution_count": 405,
   "id": "58ff2594",
   "metadata": {},
   "outputs": [
    {
     "name": "stdout",
     "output_type": "stream",
     "text": [
      "Validation Accuracy: 0.9526515151515151\n",
      "Validation Confusion Matrix:\n",
      " [[15703    74]\n",
      " [  726   393]]\n",
      "Validation Classification Report:\n",
      "               precision    recall  f1-score   support\n",
      "\n",
      "           0       0.96      1.00      0.98     15777\n",
      "           1       0.84      0.35      0.50      1119\n",
      "\n",
      "    accuracy                           0.95     16896\n",
      "   macro avg       0.90      0.67      0.74     16896\n",
      "weighted avg       0.95      0.95      0.94     16896\n",
      "\n"
     ]
    }
   ],
   "source": [
    "# Print the validation set results\n",
    "print(\"Validation Accuracy:\", LGval_acc)\n",
    "print(\"Validation Confusion Matrix:\\n\", LGval_cm)\n",
    "print(\"Validation Classification Report:\\n\", LGval_cr)"
   ]
  },
  {
   "cell_type": "code",
   "execution_count": 309,
   "id": "7c5ca8e1",
   "metadata": {},
   "outputs": [],
   "source": [
    "#plt.figure(figsize=(10,7))\n",
    "#sns.heatmap(data.corr(), cmap=\"YlGnBu\", annot=True)\n",
    "#plt.show() "
   ]
  },
  {
   "cell_type": "markdown",
   "id": "8d469eee",
   "metadata": {},
   "source": [
    "#### Model Performance till now\n",
    "\n",
    "- So for further analysis, we are selecting Random Forest as our model with feature selection technique: Recursive Feature Elimination (RFE) with its top Five features ('Fever', 'Sore throat', 'Shortness of breath', 'Headache','known contact Contact with confirmed') "
   ]
  },
  {
   "cell_type": "code",
   "execution_count": 406,
   "id": "cf047d20",
   "metadata": {},
   "outputs": [],
   "source": [
    "from sklearn.metrics import roc_curve, auc\n",
    "import matplotlib.pyplot as plt\n",
    "from sklearn.metrics import roc_auc_score"
   ]
  },
  {
   "cell_type": "markdown",
   "id": "83b11d53",
   "metadata": {},
   "source": [
    "### Hyperparameter tuning "
   ]
  },
  {
   "cell_type": "code",
   "execution_count": 407,
   "id": "3771590b",
   "metadata": {},
   "outputs": [],
   "source": [
    "from sklearn.ensemble import RandomForestClassifier\n",
    "from sklearn.model_selection import GridSearchCV\n",
    "from sklearn.metrics import classification_report"
   ]
  },
  {
   "cell_type": "code",
   "execution_count": 408,
   "id": "ca55bb4b",
   "metadata": {},
   "outputs": [],
   "source": [
    "# Define the classifier and the hyperparameters to tune\n",
    "rf_clf = RandomForestClassifier()\n",
    "param_grid = {\n",
    "    'n_estimators': [50, 100, 200],\n",
    "    'max_depth': [5, 10, None],\n",
    "    'min_samples_split': [2, 5, 10],\n",
    "    'min_samples_leaf': [1, 2, 4],\n",
    "    'max_features': ['auto', 'sqrt', 'log2']\n",
    "}"
   ]
  },
  {
   "cell_type": "code",
   "execution_count": 409,
   "id": "d0ac6c3d",
   "metadata": {},
   "outputs": [
    {
     "data": {
      "text/html": [
       "<style>#sk-container-id-52 {color: black;background-color: white;}#sk-container-id-52 pre{padding: 0;}#sk-container-id-52 div.sk-toggleable {background-color: white;}#sk-container-id-52 label.sk-toggleable__label {cursor: pointer;display: block;width: 100%;margin-bottom: 0;padding: 0.3em;box-sizing: border-box;text-align: center;}#sk-container-id-52 label.sk-toggleable__label-arrow:before {content: \"▸\";float: left;margin-right: 0.25em;color: #696969;}#sk-container-id-52 label.sk-toggleable__label-arrow:hover:before {color: black;}#sk-container-id-52 div.sk-estimator:hover label.sk-toggleable__label-arrow:before {color: black;}#sk-container-id-52 div.sk-toggleable__content {max-height: 0;max-width: 0;overflow: hidden;text-align: left;background-color: #f0f8ff;}#sk-container-id-52 div.sk-toggleable__content pre {margin: 0.2em;color: black;border-radius: 0.25em;background-color: #f0f8ff;}#sk-container-id-52 input.sk-toggleable__control:checked~div.sk-toggleable__content {max-height: 200px;max-width: 100%;overflow: auto;}#sk-container-id-52 input.sk-toggleable__control:checked~label.sk-toggleable__label-arrow:before {content: \"▾\";}#sk-container-id-52 div.sk-estimator input.sk-toggleable__control:checked~label.sk-toggleable__label {background-color: #d4ebff;}#sk-container-id-52 div.sk-label input.sk-toggleable__control:checked~label.sk-toggleable__label {background-color: #d4ebff;}#sk-container-id-52 input.sk-hidden--visually {border: 0;clip: rect(1px 1px 1px 1px);clip: rect(1px, 1px, 1px, 1px);height: 1px;margin: -1px;overflow: hidden;padding: 0;position: absolute;width: 1px;}#sk-container-id-52 div.sk-estimator {font-family: monospace;background-color: #f0f8ff;border: 1px dotted black;border-radius: 0.25em;box-sizing: border-box;margin-bottom: 0.5em;}#sk-container-id-52 div.sk-estimator:hover {background-color: #d4ebff;}#sk-container-id-52 div.sk-parallel-item::after {content: \"\";width: 100%;border-bottom: 1px solid gray;flex-grow: 1;}#sk-container-id-52 div.sk-label:hover label.sk-toggleable__label {background-color: #d4ebff;}#sk-container-id-52 div.sk-serial::before {content: \"\";position: absolute;border-left: 1px solid gray;box-sizing: border-box;top: 0;bottom: 0;left: 50%;z-index: 0;}#sk-container-id-52 div.sk-serial {display: flex;flex-direction: column;align-items: center;background-color: white;padding-right: 0.2em;padding-left: 0.2em;position: relative;}#sk-container-id-52 div.sk-item {position: relative;z-index: 1;}#sk-container-id-52 div.sk-parallel {display: flex;align-items: stretch;justify-content: center;background-color: white;position: relative;}#sk-container-id-52 div.sk-item::before, #sk-container-id-52 div.sk-parallel-item::before {content: \"\";position: absolute;border-left: 1px solid gray;box-sizing: border-box;top: 0;bottom: 0;left: 50%;z-index: -1;}#sk-container-id-52 div.sk-parallel-item {display: flex;flex-direction: column;z-index: 1;position: relative;background-color: white;}#sk-container-id-52 div.sk-parallel-item:first-child::after {align-self: flex-end;width: 50%;}#sk-container-id-52 div.sk-parallel-item:last-child::after {align-self: flex-start;width: 50%;}#sk-container-id-52 div.sk-parallel-item:only-child::after {width: 0;}#sk-container-id-52 div.sk-dashed-wrapped {border: 1px dashed gray;margin: 0 0.4em 0.5em 0.4em;box-sizing: border-box;padding-bottom: 0.4em;background-color: white;}#sk-container-id-52 div.sk-label label {font-family: monospace;font-weight: bold;display: inline-block;line-height: 1.2em;}#sk-container-id-52 div.sk-label-container {text-align: center;}#sk-container-id-52 div.sk-container {/* jupyter's `normalize.less` sets `[hidden] { display: none; }` but bootstrap.min.css set `[hidden] { display: none !important; }` so we also need the `!important` here to be able to override the default hidden behavior on the sphinx rendered scikit-learn.org. See: https://github.com/scikit-learn/scikit-learn/issues/21755 */display: inline-block !important;position: relative;}#sk-container-id-52 div.sk-text-repr-fallback {display: none;}</style><div id=\"sk-container-id-52\" class=\"sk-top-container\"><div class=\"sk-text-repr-fallback\"><pre>GridSearchCV(cv=5, estimator=RandomForestClassifier(),\n",
       "             param_grid={&#x27;max_depth&#x27;: [5, 10, None],\n",
       "                         &#x27;max_features&#x27;: [&#x27;auto&#x27;, &#x27;sqrt&#x27;, &#x27;log2&#x27;],\n",
       "                         &#x27;min_samples_leaf&#x27;: [1, 2, 4],\n",
       "                         &#x27;min_samples_split&#x27;: [2, 5, 10],\n",
       "                         &#x27;n_estimators&#x27;: [50, 100, 200]},\n",
       "             scoring=&#x27;roc_auc&#x27;)</pre><b>In a Jupyter environment, please rerun this cell to show the HTML representation or trust the notebook. <br />On GitHub, the HTML representation is unable to render, please try loading this page with nbviewer.org.</b></div><div class=\"sk-container\" hidden><div class=\"sk-item sk-dashed-wrapped\"><div class=\"sk-label-container\"><div class=\"sk-label sk-toggleable\"><input class=\"sk-toggleable__control sk-hidden--visually\" id=\"sk-estimator-id-56\" type=\"checkbox\" ><label for=\"sk-estimator-id-56\" class=\"sk-toggleable__label sk-toggleable__label-arrow\">GridSearchCV</label><div class=\"sk-toggleable__content\"><pre>GridSearchCV(cv=5, estimator=RandomForestClassifier(),\n",
       "             param_grid={&#x27;max_depth&#x27;: [5, 10, None],\n",
       "                         &#x27;max_features&#x27;: [&#x27;auto&#x27;, &#x27;sqrt&#x27;, &#x27;log2&#x27;],\n",
       "                         &#x27;min_samples_leaf&#x27;: [1, 2, 4],\n",
       "                         &#x27;min_samples_split&#x27;: [2, 5, 10],\n",
       "                         &#x27;n_estimators&#x27;: [50, 100, 200]},\n",
       "             scoring=&#x27;roc_auc&#x27;)</pre></div></div></div><div class=\"sk-parallel\"><div class=\"sk-parallel-item\"><div class=\"sk-item\"><div class=\"sk-label-container\"><div class=\"sk-label sk-toggleable\"><input class=\"sk-toggleable__control sk-hidden--visually\" id=\"sk-estimator-id-57\" type=\"checkbox\" ><label for=\"sk-estimator-id-57\" class=\"sk-toggleable__label sk-toggleable__label-arrow\">estimator: RandomForestClassifier</label><div class=\"sk-toggleable__content\"><pre>RandomForestClassifier()</pre></div></div></div><div class=\"sk-serial\"><div class=\"sk-item\"><div class=\"sk-estimator sk-toggleable\"><input class=\"sk-toggleable__control sk-hidden--visually\" id=\"sk-estimator-id-58\" type=\"checkbox\" ><label for=\"sk-estimator-id-58\" class=\"sk-toggleable__label sk-toggleable__label-arrow\">RandomForestClassifier</label><div class=\"sk-toggleable__content\"><pre>RandomForestClassifier()</pre></div></div></div></div></div></div></div></div></div></div>"
      ],
      "text/plain": [
       "GridSearchCV(cv=5, estimator=RandomForestClassifier(),\n",
       "             param_grid={'max_depth': [5, 10, None],\n",
       "                         'max_features': ['auto', 'sqrt', 'log2'],\n",
       "                         'min_samples_leaf': [1, 2, 4],\n",
       "                         'min_samples_split': [2, 5, 10],\n",
       "                         'n_estimators': [50, 100, 200]},\n",
       "             scoring='roc_auc')"
      ]
     },
     "execution_count": 409,
     "metadata": {},
     "output_type": "execute_result"
    }
   ],
   "source": [
    "# Perform hyperparameter tuning on the training set only\n",
    "grid_search = GridSearchCV(rf_clf, param_grid, cv=5, scoring='roc_auc')\n",
    "grid_search.fit(X_train, y_train)"
   ]
  },
  {
   "cell_type": "code",
   "execution_count": 410,
   "id": "ae81f8ee",
   "metadata": {},
   "outputs": [],
   "source": [
    "# Evaluate the best model on the validation set\n",
    "best_rf_clf = grid_search.best_estimator_\n",
    "y_pred_val = best_rf_clf.predict(X_val)\n",
    "roc_auc_val = roc_auc_score(y_val, y_pred_val)"
   ]
  },
  {
   "cell_type": "code",
   "execution_count": 411,
   "id": "aa4f96c9",
   "metadata": {},
   "outputs": [],
   "source": [
    "val_acc = accuracy_score(y_val, y_pred_val)\n",
    "val_cm = confusion_matrix(y_val, y_pred_val)\n",
    "val_cr = classification_report(y_val, y_pred_val)"
   ]
  },
  {
   "cell_type": "code",
   "execution_count": 412,
   "id": "5b5163cf",
   "metadata": {},
   "outputs": [
    {
     "name": "stdout",
     "output_type": "stream",
     "text": [
      "Validation Accuracy: 0.9555516098484849\n",
      "Validation Confusion Matrix:\n",
      " [[15451   326]\n",
      " [  425   694]]\n",
      "Validation Classification Report:\n",
      "               precision    recall  f1-score   support\n",
      "\n",
      "           0       0.97      0.98      0.98     15777\n",
      "           1       0.68      0.62      0.65      1119\n",
      "\n",
      "    accuracy                           0.96     16896\n",
      "   macro avg       0.83      0.80      0.81     16896\n",
      "weighted avg       0.95      0.96      0.95     16896\n",
      "\n"
     ]
    }
   ],
   "source": [
    "# Print the validation set results\n",
    "print(\"Validation Accuracy:\", val_acc)\n",
    "print(\"Validation Confusion Matrix:\\n\", val_cm)\n",
    "print(\"Validation Classification Report:\\n\", val_cr)"
   ]
  },
  {
   "cell_type": "markdown",
   "id": "ed1eac31",
   "metadata": {},
   "source": [
    "- we can see that even with hyperparameter tuning there is no change in the validation dataset results, anyway lets move on and see how it perform with test result"
   ]
  },
  {
   "cell_type": "code",
   "execution_count": 413,
   "id": "16c3d652",
   "metadata": {},
   "outputs": [],
   "source": [
    "# Evaluate the final performance on the test set\n",
    "y_pred_test = best_rf_clf.predict(X_test)\n",
    "roc_auc_test = roc_auc_score(y_test, y_pred_test)"
   ]
  },
  {
   "cell_type": "code",
   "execution_count": 414,
   "id": "a7a93f9f",
   "metadata": {},
   "outputs": [],
   "source": [
    "test_acc = accuracy_score(y_test, y_pred_test)\n",
    "test_cm = confusion_matrix(y_test, y_pred_test)\n",
    "test_cr = classification_report(y_test, y_pred_test)"
   ]
  },
  {
   "cell_type": "code",
   "execution_count": 415,
   "id": "9a56138c",
   "metadata": {},
   "outputs": [
    {
     "name": "stdout",
     "output_type": "stream",
     "text": [
      "Test Accuracy: 0.956112247655074\n",
      "Test Confusion Matrix:\n",
      " [[46275   779]\n",
      " [ 1495  3265]]\n",
      "Test Classification Report:\n",
      "               precision    recall  f1-score   support\n",
      "\n",
      "           0       0.97      0.98      0.98     47054\n",
      "           1       0.81      0.69      0.74      4760\n",
      "\n",
      "    accuracy                           0.96     51814\n",
      "   macro avg       0.89      0.83      0.86     51814\n",
      "weighted avg       0.95      0.96      0.95     51814\n",
      "\n"
     ]
    }
   ],
   "source": [
    "# Evaluate the model on the test set using the best hyperparameters\n",
    "print(\"Test Accuracy:\", test_acc)\n",
    "print(\"Test Confusion Matrix:\\n\", test_cm)\n",
    "print(\"Test Classification Report:\\n\", test_cr)"
   ]
  },
  {
   "cell_type": "markdown",
   "id": "5454722b",
   "metadata": {},
   "source": [
    "### Test Results"
   ]
  },
  {
   "cell_type": "markdown",
   "id": "4f8e4381",
   "metadata": {},
   "source": [
    "- Test Accuracy: It tells us the percentage of correctly predicted instances out of all the instances in the test dataset. The given model has an accuracy of 95.61%, which is quite good.\n",
    "\n",
    "- Test Confusion Matrix: It provides the number of true positive, true negative, false positive, and false negative predictions. From the given confusion matrix, we can see that the model has correctly predicted 46275 true negatives and 3265 true positives, but it has misclassified 779 instances of negative as positive and 1495 instances of positive as negative.\n",
    "\n",
    "- Test Classification Report: It contains precision, recall, and f1-score metrics for each class (Negative and Positive) along with their respective support. Precision is the ratio of true positives to the total predicted positives, recall is the ratio of true positives to the total actual positives, and f1-score is the harmonic mean of precision and recall.\n",
    "\n",
    "- From the given classification report, we can see that the model has a high precision and recall for Negative cases (97% and 98% respectively) but relatively lower precision and recall for Positive cases (81% and 69% respectively). The f1-score is a weighted average of precision and recall, which is 0.98 for Negative cases and 0.74 for Positive cases."
   ]
  },
  {
   "cell_type": "markdown",
   "id": "5d92fba8",
   "metadata": {},
   "source": [
    "### Conclusion"
   ]
  },
  {
   "cell_type": "markdown",
   "id": "5d8e1a19",
   "metadata": {},
   "source": [
    "- In conclusion, based on health data reported by the ABC Government, we developed a model for predicting COVID-19 diagnosis by asking eight basic questions.\n",
    "- we can see that the model has a high accuracy and performs well in predicting negative cases. However, it has relatively lower precision and recall for positive cases, indicating that the model may have difficulty in accurately predicting positive cases. Also we tried multiple hyperparameter tuning but the results were still same.\n",
    "- In my opinion, this could be due to the imbalanced nature of the dataset. From the plots, we observe that there were relatively high negative cases as compared to the Positive cases and that is why we are seeing high accuracy in the negative cases.\n",
    "- we also observed that, age_60_above had significant amount of missing values and removing them may reduce the performance of the model but in my opinion there were no any other factor related to age to impute them\n",
    "- we also observed that, the data provided by the ABC government had missing information such as the duration and location (indoors/outdoors) of the contact was not available. Some symptoms (such as lack of smell and taste) were identified as being very predictive of a COVID-19 infection by previous studies, but were not recorded by the ABC Government."
   ]
  }
 ],
 "metadata": {
  "kernelspec": {
   "display_name": "Python 3 (ipykernel)",
   "language": "python",
   "name": "python3"
  },
  "language_info": {
   "codemirror_mode": {
    "name": "ipython",
    "version": 3
   },
   "file_extension": ".py",
   "mimetype": "text/x-python",
   "name": "python",
   "nbconvert_exporter": "python",
   "pygments_lexer": "ipython3",
   "version": "3.9.12"
  }
 },
 "nbformat": 4,
 "nbformat_minor": 5
}
